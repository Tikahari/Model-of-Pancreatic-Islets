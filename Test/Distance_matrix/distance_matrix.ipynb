{
 "cells": [
  {
   "cell_type": "code",
   "execution_count": 1,
   "source": [
    "from neuron import h, units, rxd, load_mechanisms\n",
    "import neuron\n",
    "import matplotlib\n",
    "from matplotlib import pyplot as plt\n",
    "h.load_file(\"stdrun.hoc\")\n",
    "%matplotlib inline\n",
    "from itertools import product\n",
    "import pandas as pd\n",
    "import os\n",
    "import numpy as np\n",
    "import math"
   ],
   "outputs": [
    {
     "output_type": "stream",
     "name": "stderr",
     "text": [
      "Warning: no DISPLAY environment variable.\n",
      "--No graphics will be displayed.\n"
     ]
    }
   ],
   "metadata": {}
  },
  {
   "cell_type": "code",
   "execution_count": 2,
   "source": [
    "class Islet:\n",
    "    def __init__(self, id, prob_alpha, prob_beta, islet_radius, num_cells):\n",
    "        \"\"\"Initialize islet instance\"\"\"\n",
    "        # path to initialization file, mechanisms, output, and generation identifier\n",
    "        self._id = id\n",
    "        self.islet_radius = islet_radius\n",
    "        self.num_cells = num_cells\n",
    "        self.prob_alpha = prob_alpha\n",
    "        self.prob_beta = prob_beta\n",
    "        self.num_betas = math.floor(self.num_cells * self.prob_beta)\n",
    "        self.num_alphas = math.ceil(self.num_cells * self.prob_alpha)\n",
    "        self.num_deltas = self.num_cells - self.num_betas - self.num_alphas\n",
    "\n",
    "    def __repr__(self):\n",
    "        return 'Islet[{}]'.format(self._id)\n",
    "\n",
    "    def spatial_setup(self):\n",
    "        nx, ny, nz = (10,10,10)\n",
    "        # The below statements take a line from -radius to radius and chops it up into n segments\n",
    "        x_coords = np.linspace(-self.islet_radius, self.islet_radius, nx)\n",
    "        y_coords = np.linspace(-self.islet_radius, self.islet_radius, ny)\n",
    "        z_coords = np.linspace(-self.islet_radius, self.islet_radius, nz)\n",
    "        self.locations = []\n",
    "        count = 0\n",
    "        while count < self.num_cells:\n",
    "            # Select a random value for x, y, and z coordinates\n",
    "            x,y,z = np.random.choice(x_coords, 1), np.random.choice(y_coords, 1), np.random.choice(z_coords, 1)\n",
    "            # Check if the point is within the islet sphere\n",
    "            if math.sqrt(x**2 + y**2 + z**2) < self.islet_radius:\n",
    "                # Check if random coordinates chosen are unique so not two cells have the same location\n",
    "                if any(location == [x[0],y[0],z[0]] for location in self.locations): \n",
    "                    continue\n",
    "                else:\n",
    "                    # If location unique, append it to the locations list\n",
    "                    self.locations.append((x[0],y[0],z[0]))\n",
    "                    count+=1\n",
    "\n",
    "    def populate_cells(self):\n",
    "        # Create cell dictionary containing all the sections in the islet\n",
    "       self.cells = {}\n",
    "       # Create the sections, which can be accessed by their name in the cells dictionary\n",
    "       for i in range(self.num_alphas):\n",
    "            self.cells[\"A_\" + str(i)] = h.Section(name = \"A_\" + str(i))\n",
    "       for i in range(self.num_betas):\n",
    "            self.cells[\"B_\" + str(i)] = h.Section(name = \"B_\" + str(i))\n",
    "       for i in range(self.num_deltas):\n",
    "            self.cells[\"D_\" + str(i)] = h.Section(name = \"D_\" + str(i))\n",
    "\n",
    "    def set_cell_locations(self):\n",
    "        # Separate the cells dictionary into lists for each cell type\n",
    "        # This is accomplished by using the search criteria of if \"A\", \"B\", or \"D\"\n",
    "        # is in cell name\n",
    "        alpha_sections = [val for key, val in self.cells.items() if \"A\" in key]\n",
    "        beta_sections = [val for key, val in self.cells.items() if \"B\" in key]\n",
    "        delta_sections = [val for key, val in self.cells.items() if \"D\" in key]\n",
    "        count = 0\n",
    "        for i in range(self.num_cells):\n",
    "            while count < self.num_alphas:\n",
    "                print(\"Setting alpha cell locations\")\n",
    "                alpha_sections[i].pt3dclear()\n",
    "                alpha_sections[i].pt3dadd(self.locations[i][0], self.locations[i][1], self.locations[i][2], 7)\n",
    "                alpha_sections[i].pt3dadd(self.locations[i][0] + 7, self.locations[i][1], self.locations[i][2], 7)\n",
    "                count+=1\n",
    "            while self.num_alphas <= count < self.num_alphas + self.num_betas:\n",
    "                print(\"Setting beta cell locations\")\n",
    "                beta_sections[i].pt3dclear()\n",
    "                beta_sections[i].pt3dadd(self.locations[i][0], self.locations[i][1], self.locations[i][2], 15.5)\n",
    "                beta_sections[i].pt3dadd(self.locations[i][0] + 15.5, self.locations[i][1], self.locations[i][2], 15.5)\n",
    "                count+=1\n",
    "            while self.num_alphas + self.num_betas <= count < self.num_cells:\n",
    "                print(\"Setting delta cell locations\")\n",
    "                delta_sections[i].pt3dclear()\n",
    "                delta_sections[i].pt3dadd(self.locations[i][0], self.locations[i][1], self.locations[i][2], 7)\n",
    "                delta_sections[i].pt3dadd(self.locations[i][0] + 7, self.locations[i][1], self.locations[i][2], 7)   \n",
    "                count+=1            "
   ],
   "outputs": [],
   "metadata": {}
  },
  {
   "cell_type": "code",
   "execution_count": 3,
   "source": [
    "def create_dist_matrix(islet_name):\n",
    "    # Create a numpy array containing the distance between each cell\n",
    "    dist_matrix = np.array([math.dist(location_1, location_2) for location_1 in islet_name.locations for location_2 in islet_name.locations])\n",
    "    # Reshape the array to be nxn where each row corresponds to a single cell and the \n",
    "    # distances between itself and all other cells\n",
    "    dist_matrix = np.reshape(dist_matrix, (islet_name.num_cells, islet_name.num_cells))\n",
    "    # Add the identity matrix so that the diagonal values are 1\n",
    "    dist_matrix = dist_matrix + np.identity(islet_name.num_cells)\n",
    "    return dist_matrix"
   ],
   "outputs": [],
   "metadata": {}
  },
  {
   "cell_type": "code",
   "execution_count": 4,
   "source": [
    "test_islet = Islet(1,0.3,0.5,1,3)\n",
    "test_islet.spatial_setup()\n",
    "test_islet.populate_cells()\n",
    "test_islet.set_cell_locations()"
   ],
   "outputs": [
    {
     "output_type": "stream",
     "name": "stdout",
     "text": [
      "Setting alpha cell locations\n",
      "Setting beta cell locations\n",
      "Setting delta cell locations\n"
     ]
    }
   ],
   "metadata": {}
  },
  {
   "cell_type": "code",
   "execution_count": 5,
   "source": [
    "create_dist_matrix(test_islet)"
   ],
   "outputs": [
    {
     "output_type": "execute_result",
     "data": {
      "text/plain": [
       "array([[1.        , 0.66666667, 0.49690399],\n",
       "       [0.66666667, 1.        , 1.08866211],\n",
       "       [0.49690399, 1.08866211, 1.        ]])"
      ]
     },
     "metadata": {},
     "execution_count": 5
    }
   ],
   "metadata": {}
  },
  {
   "cell_type": "code",
   "execution_count": 5,
   "source": [
    "test_islet.cells[\"B_0\"].L"
   ],
   "outputs": [
    {
     "output_type": "execute_result",
     "data": {
      "text/plain": [
       "15.5"
      ]
     },
     "metadata": {},
     "execution_count": 5
    }
   ],
   "metadata": {}
  },
  {
   "cell_type": "code",
   "execution_count": 31,
   "source": [
    "# Cell classes aren't really worth what we are doing.\n",
    "\n",
    "# class Alpha(Islet):\n",
    "#     def __init__(self, id, x, y, z):\n",
    "#         self._id = id\n",
    "#         self.cell = h.Section(name = \"A\" + str(id), cell = self)\n",
    "#         self.cell.pt3dclear()\n",
    "#         self.cell.pt3dadd(x,y,z,7)\n",
    "#         self.cell.pt3dadd(x+7, y,z,7)\n",
    "#     def __repr__(self):\n",
    "#         return 'Alpha[{}]'.format(self._id)\n",
    "\n",
    "# class Beta(Islet):\n",
    "#     def __init__(self, id, x, y, z):\n",
    "#         self._id = id\n",
    "#         self.cell = h.Section()\n",
    "#         self.cell.pt3dclear()\n",
    "#         self.cell.pt3dadd(x,y,z,15.5)\n",
    "#         self.cell.pt3dadd(x+15.5, y,z,15.5)\n",
    "#     def __repr__(self):\n",
    "#         return 'Beta[{}]'.format(self._id)\n",
    "\n",
    "# class Delta(Islet):\n",
    "#     def __init__(self, id, x, y, z):\n",
    "#         self._id = id\n",
    "#         self.cell = h.Section()\n",
    "#         self.cell.pt3dclear()\n",
    "#         self.cell.pt3dadd(x,y,z,7)\n",
    "#         self.cell.pt3dadd(x+7, y,z,7)\n",
    "#     def __repr__(self):\n",
    "#         return 'Delta[{}]'.format(self._id)"
   ],
   "outputs": [],
   "metadata": {}
  }
 ],
 "metadata": {
  "orig_nbformat": 4,
  "language_info": {
   "name": "python",
   "version": "3.9.6",
   "mimetype": "text/x-python",
   "codemirror_mode": {
    "name": "ipython",
    "version": 3
   },
   "pygments_lexer": "ipython3",
   "nbconvert_exporter": "python",
   "file_extension": ".py"
  },
  "kernelspec": {
   "name": "python3",
   "display_name": "Python 3.9.6 64-bit ('8.0.0': conda)"
  },
  "interpreter": {
   "hash": "0f3164d8129cab40951503f743a8d5326e866d31ef6101438dfa741d2ec07893"
  }
 },
 "nbformat": 4,
 "nbformat_minor": 2
}