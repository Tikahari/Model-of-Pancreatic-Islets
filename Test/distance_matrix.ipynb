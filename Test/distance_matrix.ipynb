{
 "cells": [
  {
   "cell_type": "code",
   "execution_count": 1,
   "metadata": {},
   "outputs": [
    {
     "name": "stderr",
     "output_type": "stream",
     "text": [
      "Warning: no DISPLAY environment variable.\n",
      "--No graphics will be displayed.\n"
     ]
    }
   ],
   "source": [
    "from neuron import h, units, rxd, load_mechanisms\n",
    "import neuron\n",
    "import matplotlib\n",
    "from matplotlib import pyplot as plt\n",
    "h.load_file(\"stdrun.hoc\")\n",
    "%matplotlib inline\n",
    "from itertools import product\n",
    "import pandas as pd\n",
    "import os\n",
    "import numpy as np\n",
    "import math"
   ]
  },
  {
   "cell_type": "code",
   "execution_count": 2,
   "metadata": {},
   "outputs": [],
   "source": [
    "class Islet:\n",
    "    def __init__(self, id, prob_alpha, prob_beta, islet_radius, num_cells):\n",
    "        \"\"\"Initialize islet instance\"\"\"\n",
    "        # path to initialization file, mechanisms, output, and generation identifier\n",
    "        self._id = id\n",
    "        self.islet_radius = islet_radius\n",
    "        self.num_cells = num_cells\n",
    "        self.prob_alpha = prob_alpha\n",
    "        self.prob_beta = prob_beta\n",
    "        self.num_betas = math.floor(self.num_cells * self.prob_beta)\n",
    "        self.num_alphas = math.ceil(self.num_cells * self.prob_alpha)\n",
    "        self.num_deltas = self.num_cells - self.num_betas - self.num_alphas\n",
    "\n",
    "    def __repr__(self):\n",
    "        return 'Islet[{}]'.format(self._id)\n",
    "\n",
    "    def spatial_setup(self):\n",
    "        nx, ny, nz = (10,10,10)\n",
    "        # The below statements take a line from -radius to radius and chops it up into n segments\n",
    "        x_coords = np.linspace(-self.islet_radius, self.islet_radius, nx)\n",
    "        y_coords = np.linspace(-self.islet_radius, self.islet_radius, ny)\n",
    "        z_coords = np.linspace(-self.islet_radius, self.islet_radius, nz)\n",
    "        self.locations = []\n",
    "        count = 0\n",
    "        while count < self.num_cells:\n",
    "            # Select a random value for x, y, and z coordinates\n",
    "            x,y,z = np.random.choice(x_coords, 1), np.random.choice(y_coords, 1), np.random.choice(z_coords, 1)\n",
    "            # Check if the point is within the islet sphere\n",
    "            if math.sqrt(x**2 + y**2 + z**2) < self.islet_radius:\n",
    "                # Check if random coordinates chosen are unique so not two cells have the same location\n",
    "                if any(location == [x[0],y[0],z[0]] for location in self.locations): \n",
    "                    continue\n",
    "                else:\n",
    "                    # If location unique, append it to the locations list\n",
    "                    self.locations.append((x[0],y[0],z[0]))\n",
    "                    count+=1\n",
    "\n",
    "    def populate_cells(self):\n",
    "        # Create cell dictionary containing all the sections in the islet\n",
    "        self.cells = {}\n",
    "       # Create the sections, which can be accessed by their name in the cells dictionary\n",
    "        for i in range(self.num_alphas):\n",
    "            self.cells[\"A_\" + str(i)] = h.Section(name = \"A_\" + str(i))\n",
    "        for i in range(self.num_betas):\n",
    "            self.cells[\"B_\" + str(i)] = h.Section(name = \"B_\" + str(i))\n",
    "        for i in range(self.num_deltas):\n",
    "            self.cells[\"D_\" + str(i)] = h.Section(name = \"D_\" + str(i))\n",
    "        # Insert one mechanism into each cell. In future make this like original setup\n",
    "        # with config file and mechanism names for each cell type.\n",
    "        for cell in self.cells:\n",
    "            self.cells[cell].insert('one')\n",
    "\n",
    "    def set_cell_locations(self):\n",
    "        # Separate the cells dictionary into lists for each cell type\n",
    "        # This is accomplished by using the search criteria of if \"A\", \"B\", or \"D\"\n",
    "        # is in cell name\n",
    "        alpha_sections = [val for key, val in self.cells.items() if \"A\" in key]\n",
    "        beta_sections = [val for key, val in self.cells.items() if \"B\" in key]\n",
    "        delta_sections = [val for key, val in self.cells.items() if \"D\" in key]\n",
    "        count = 0\n",
    "        for i in range(self.num_cells):\n",
    "            while count < self.num_alphas:\n",
    "                print(\"Setting alpha cell locations\")\n",
    "                alpha_sections[i].pt3dclear()\n",
    "                alpha_sections[i].pt3dadd(self.locations[i][0], self.locations[i][1], self.locations[i][2], 7)\n",
    "                alpha_sections[i].pt3dadd(self.locations[i][0] + 7, self.locations[i][1], self.locations[i][2], 7)\n",
    "                count+=1\n",
    "            while self.num_alphas <= count < self.num_alphas + self.num_betas:\n",
    "                print(\"Setting beta cell locations\")\n",
    "                beta_sections[i].pt3dclear()\n",
    "                beta_sections[i].pt3dadd(self.locations[i][0], self.locations[i][1], self.locations[i][2], 15.5)\n",
    "                beta_sections[i].pt3dadd(self.locations[i][0] + 15.5, self.locations[i][1], self.locations[i][2], 15.5)\n",
    "                count+=1\n",
    "            while self.num_alphas + self.num_betas <= count < self.num_cells:\n",
    "                print(\"Setting delta cell locations\")\n",
    "                delta_sections[i].pt3dclear()\n",
    "                delta_sections[i].pt3dadd(self.locations[i][0], self.locations[i][1], self.locations[i][2], 7)\n",
    "                delta_sections[i].pt3dadd(self.locations[i][0] + 7, self.locations[i][1], self.locations[i][2], 7)   \n",
    "                count+=1            "
   ]
  },
  {
   "cell_type": "code",
   "execution_count": null,
   "metadata": {},
   "outputs": [],
   "source": []
  },
  {
   "cell_type": "code",
   "execution_count": 71,
   "metadata": {},
   "outputs": [],
   "source": [
    "# This function first creates a matrix that contains the distance between each cell.\n",
    "# Each row of this matrix corresponds to a cell.\n",
    "# Say there are k alpha cells, l beta cells, and m delta cells.\n",
    "# And let n=k+l+m be the total number of cells.\n",
    "# The first k rows correspond to alpha cells.\n",
    "# Rows k+1 to k+l correspond to beta cells.\n",
    "# Rows k+l+1 to n correspond to delta cells.\n",
    "# This matrix will then be subsetted into different matrices\n",
    "# One for beta cells affecting alphas that will contain the rows corresponding to \n",
    "# beta cells and the columns corresponding to alpha cells (D_ba).\n",
    "# One for delta cells affecting alphas that will contain the rows corresponding to \n",
    "# delta cells and the columns corresponding to alpha cells (D_da).\n",
    "# One for alpha cells affecting betas that will contain the rows corresponding to \n",
    "# alpha cells and the columns corresponding to beta cells (D_ab).\n",
    "# One for delta cells affecting betas that will contain the rows corresponding to \n",
    "# delta cells and the columns corresponding to beta cells (D_db).\n",
    "# One for beta cells affecting deltas that will contain the rows corresponding to \n",
    "# beta cells and the columns corresponding to delta cells (D_bd).\n",
    "def create_dist_matrices(islet_name):\n",
    "    # Create a numpy array containing the distance between each cell\n",
    "    dist_matrix = np.array([math.dist(location_1, location_2) for location_1 in islet_name.locations for location_2 in islet_name.locations])\n",
    "    # Reshape the array to be nxn where each row corresponds to a single cell and the \n",
    "    # distances between itself and all other cells\n",
    "    dist_matrix = np.reshape(dist_matrix, (islet_name.num_cells, islet_name.num_cells))\n",
    "    dist_matrix = np.arange(100)\n",
    "    dist_matrix.shape = (10,10)\n",
    "    # Add the identity matrix so that the diagonal values are 1\n",
    "    #dist_matrix = dist_matrix + np.identity(islet_name.num_cells)\n",
    "    # Create D_ba\n",
    "    D_ba = dist_matrix[0:islet_name.num_alphas, islet_name.num_alphas:islet_name.num_alphas+islet_name.num_betas]\n",
    "    # Create D_da\n",
    "    D_da = dist_matrix[0:islet_name.num_alphas, islet_name.num_alphas+islet_name.num_betas:islet_name.num_cells]\n",
    "    # Create D_ab\n",
    "    D_ab = dist_matrix[islet_name.num_alphas:islet_name.num_alphas+islet_name.num_betas, 0:islet_name.num_alphas]\n",
    "    # Create D_db\n",
    "    D_db = dist_matrix[islet_name.num_alphas:islet_name.num_alphas+islet_name.num_betas, islet_name.num_alphas+islet_name.num_betas:islet_name.num_cells]\n",
    "    # Create D_bd\n",
    "    D_bd = dist_matrix[islet_name.num_alphas+islet_name.num_betas:islet_name.num_cells, islet_name.num_alphas:islet_name.num_alphas+islet_name.num_betas]\n",
    "    return dist_matrix,D_ba,D_da,D_ab,D_db,D_bd"
   ]
  },
  {
   "cell_type": "code",
   "execution_count": 22,
   "metadata": {},
   "outputs": [
    {
     "data": {
      "text/plain": [
       "array([[ 0,  1,  2,  3],\n",
       "       [ 4,  5,  6,  7],\n",
       "       [ 8,  9, 10, 11],\n",
       "       [12, 13, 14, 15]])"
      ]
     },
     "execution_count": 22,
     "metadata": {},
     "output_type": "execute_result"
    }
   ],
   "source": [
    "test_np_array = np.arange(16)\n",
    "test_np_array.shape = (4,4)\n",
    "test_np_array"
   ]
  },
  {
   "cell_type": "code",
   "execution_count": 26,
   "metadata": {},
   "outputs": [
    {
     "data": {
      "text/plain": [
       "array([[0, 1, 2],\n",
       "       [4, 5, 6]])"
      ]
     },
     "execution_count": 26,
     "metadata": {},
     "output_type": "execute_result"
    }
   ],
   "source": [
    "test_np_array[0:2,0:3]"
   ]
  },
  {
   "cell_type": "code",
   "execution_count": 72,
   "metadata": {},
   "outputs": [
    {
     "name": "stdout",
     "output_type": "stream",
     "text": [
      "Setting alpha cell locations\n",
      "Setting alpha cell locations\n",
      "Setting alpha cell locations\n",
      "Setting beta cell locations\n",
      "Setting beta cell locations\n",
      "Setting beta cell locations\n",
      "Setting beta cell locations\n",
      "Setting beta cell locations\n",
      "Setting delta cell locations\n",
      "Setting delta cell locations\n"
     ]
    }
   ],
   "source": [
    "# id, prob_alpha, prob_beta, islet_radius, num_cells)\n",
    "test_islet = Islet(1,0.3,0.5,1,10)\n",
    "test_islet.spatial_setup()\n",
    "test_islet.populate_cells()\n",
    "test_islet.set_cell_locations()"
   ]
  },
  {
   "cell_type": "code",
   "execution_count": 73,
   "metadata": {},
   "outputs": [
    {
     "data": {
      "text/plain": [
       "[(-0.7777777777777778, -0.33333333333333337, -0.33333333333333337),\n",
       " (0.5555555555555554, 0.11111111111111116, -0.11111111111111116),\n",
       " (-0.33333333333333337, 0.5555555555555554, 0.11111111111111116),\n",
       " (0.5555555555555554, -0.11111111111111116, 0.7777777777777777),\n",
       " (-0.11111111111111116, -0.11111111111111116, 0.11111111111111116),\n",
       " (0.11111111111111116, -0.33333333333333337, -0.33333333333333337),\n",
       " (0.11111111111111116, 0.5555555555555554, -0.7777777777777778),\n",
       " (0.11111111111111116, 0.11111111111111116, -0.5555555555555556),\n",
       " (0.7777777777777777, 0.11111111111111116, 0.5555555555555554),\n",
       " (0.11111111111111116, -0.33333333333333337, -0.5555555555555556)]"
      ]
     },
     "execution_count": 73,
     "metadata": {},
     "output_type": "execute_result"
    }
   ],
   "source": [
    "test_islet.locations"
   ]
  },
  {
   "cell_type": "code",
   "execution_count": 74,
   "metadata": {},
   "outputs": [],
   "source": [
    "dist_matrix,D_ba,D_da,D_ab,D_db,D_bd = create_dist_matrices(test_islet)"
   ]
  },
  {
   "cell_type": "code",
   "execution_count": 75,
   "metadata": {},
   "outputs": [
    {
     "data": {
      "text/plain": [
       "array([[ 0,  1,  2,  3,  4,  5,  6,  7,  8,  9],\n",
       "       [10, 11, 12, 13, 14, 15, 16, 17, 18, 19],\n",
       "       [20, 21, 22, 23, 24, 25, 26, 27, 28, 29],\n",
       "       [30, 31, 32, 33, 34, 35, 36, 37, 38, 39],\n",
       "       [40, 41, 42, 43, 44, 45, 46, 47, 48, 49],\n",
       "       [50, 51, 52, 53, 54, 55, 56, 57, 58, 59],\n",
       "       [60, 61, 62, 63, 64, 65, 66, 67, 68, 69],\n",
       "       [70, 71, 72, 73, 74, 75, 76, 77, 78, 79],\n",
       "       [80, 81, 82, 83, 84, 85, 86, 87, 88, 89],\n",
       "       [90, 91, 92, 93, 94, 95, 96, 97, 98, 99]])"
      ]
     },
     "execution_count": 75,
     "metadata": {},
     "output_type": "execute_result"
    }
   ],
   "source": [
    "dist_matrix"
   ]
  },
  {
   "cell_type": "code",
   "execution_count": 76,
   "metadata": {},
   "outputs": [
    {
     "data": {
      "text/plain": [
       "array([[ 3,  4,  5,  6,  7],\n",
       "       [13, 14, 15, 16, 17],\n",
       "       [23, 24, 25, 26, 27]])"
      ]
     },
     "execution_count": 76,
     "metadata": {},
     "output_type": "execute_result"
    }
   ],
   "source": [
    "D_ba"
   ]
  },
  {
   "cell_type": "code",
   "execution_count": 77,
   "metadata": {},
   "outputs": [
    {
     "data": {
      "text/plain": [
       "array([[ 8,  9],\n",
       "       [18, 19],\n",
       "       [28, 29]])"
      ]
     },
     "execution_count": 77,
     "metadata": {},
     "output_type": "execute_result"
    }
   ],
   "source": [
    "D_da"
   ]
  },
  {
   "cell_type": "code",
   "execution_count": 78,
   "metadata": {},
   "outputs": [
    {
     "data": {
      "text/plain": [
       "array([[30, 31, 32],\n",
       "       [40, 41, 42],\n",
       "       [50, 51, 52],\n",
       "       [60, 61, 62],\n",
       "       [70, 71, 72]])"
      ]
     },
     "execution_count": 78,
     "metadata": {},
     "output_type": "execute_result"
    }
   ],
   "source": [
    "D_ab"
   ]
  },
  {
   "cell_type": "code",
   "execution_count": 79,
   "metadata": {},
   "outputs": [
    {
     "data": {
      "text/plain": [
       "array([[38, 39],\n",
       "       [48, 49],\n",
       "       [58, 59],\n",
       "       [68, 69],\n",
       "       [78, 79]])"
      ]
     },
     "execution_count": 79,
     "metadata": {},
     "output_type": "execute_result"
    }
   ],
   "source": [
    "D_db"
   ]
  },
  {
   "cell_type": "code",
   "execution_count": 80,
   "metadata": {},
   "outputs": [
    {
     "data": {
      "text/plain": [
       "array([[83, 84, 85, 86, 87],\n",
       "       [93, 94, 95, 96, 97]])"
      ]
     },
     "execution_count": 80,
     "metadata": {},
     "output_type": "execute_result"
    }
   ],
   "source": [
    "D_bd"
   ]
  },
  {
   "cell_type": "code",
   "execution_count": 5,
   "metadata": {},
   "outputs": [
    {
     "data": {
      "text/plain": [
       "15.5"
      ]
     },
     "execution_count": 5,
     "metadata": {},
     "output_type": "execute_result"
    }
   ],
   "source": [
    "test_islet.cells[\"B_0\"].L"
   ]
  },
  {
   "cell_type": "code",
   "execution_count": 9,
   "metadata": {},
   "outputs": [
    {
     "data": {
      "text/plain": [
       "0.0"
      ]
     },
     "execution_count": 9,
     "metadata": {},
     "output_type": "execute_result"
    }
   ],
   "source": [
    "test_islet.cells[\"B_0\"](0.5).one.JIS"
   ]
  },
  {
   "cell_type": "code",
   "execution_count": 16,
   "metadata": {},
   "outputs": [
    {
     "data": {
      "text/plain": [
       "['A_0', 'B_0', 'D_0']"
      ]
     },
     "execution_count": 16,
     "metadata": {},
     "output_type": "execute_result"
    }
   ],
   "source": [
    "list(test_islet.cells.keys())"
   ]
  },
  {
   "cell_type": "code",
   "execution_count": null,
   "metadata": {},
   "outputs": [],
   "source": [
    "# Function to make column vectors of JIS, JGS, and JSS values\n",
    "# These vectors will need to be populated with new values at each time step\n",
    "def create_secretion_rate_matrix(islet_name):\n",
    "    # Create list of cell names by accessing keys in cell\n",
    "    # dictionary\n",
    "    cell_names = list(islet_name.cells.keys())\n",
    "    # Initialize column vectors\n",
    "    JIS_col_matrix = []\n",
    "    JGS_col_matrix = []\n",
    "    JSS_col_matrix = []\n",
    "    # Add JIS, JGS, JSS values to corresponding vector based on name\n",
    "    for cell in cell_names:\n",
    "        if \"B\" in cell:\n",
    "            JIS_col_matrix.append(islet_name.cells[cell](0.5).one.JIS)\n",
    "        if \"A\" in cell:\n",
    "            JGS_col_matrix.append(islet_name.cells[cell](0.5).one.JGS)\n",
    "        if \"D\" in cell:\n",
    "            JSS_col_matrix.append(islet_name.cells[cell](0.5).one.JSS)"
   ]
  },
  {
   "cell_type": "code",
   "execution_count": 17,
   "metadata": {},
   "outputs": [],
   "source": [
    "test_list = [\"A\", \"B\", \"D\"]\n",
    "test_list.append(\"Q\")"
   ]
  },
  {
   "cell_type": "code",
   "execution_count": 18,
   "metadata": {},
   "outputs": [
    {
     "data": {
      "text/plain": [
       "['A', 'B', 'D', 'Q']"
      ]
     },
     "execution_count": 18,
     "metadata": {},
     "output_type": "execute_result"
    }
   ],
   "source": [
    "test_list"
   ]
  },
  {
   "cell_type": "code",
   "execution_count": 31,
   "metadata": {},
   "outputs": [],
   "source": [
    "# Cell classes aren't really worth what we are doing.\n",
    "\n",
    "# class Alpha(Islet):\n",
    "#     def __init__(self, id, x, y, z):\n",
    "#         self._id = id\n",
    "#         self.cell = h.Section(name = \"A\" + str(id), cell = self)\n",
    "#         self.cell.pt3dclear()\n",
    "#         self.cell.pt3dadd(x,y,z,7)\n",
    "#         self.cell.pt3dadd(x+7, y,z,7)\n",
    "#     def __repr__(self):\n",
    "#         return 'Alpha[{}]'.format(self._id)\n",
    "\n",
    "# class Beta(Islet):\n",
    "#     def __init__(self, id, x, y, z):\n",
    "#         self._id = id\n",
    "#         self.cell = h.Section()\n",
    "#         self.cell.pt3dclear()\n",
    "#         self.cell.pt3dadd(x,y,z,15.5)\n",
    "#         self.cell.pt3dadd(x+15.5, y,z,15.5)\n",
    "#     def __repr__(self):\n",
    "#         return 'Beta[{}]'.format(self._id)\n",
    "\n",
    "# class Delta(Islet):\n",
    "#     def __init__(self, id, x, y, z):\n",
    "#         self._id = id\n",
    "#         self.cell = h.Section()\n",
    "#         self.cell.pt3dclear()\n",
    "#         self.cell.pt3dadd(x,y,z,7)\n",
    "#         self.cell.pt3dadd(x+7, y,z,7)\n",
    "#     def __repr__(self):\n",
    "#         return 'Delta[{}]'.format(self._id)"
   ]
  }
 ],
 "metadata": {
  "interpreter": {
   "hash": "8a0e84e736d432aa9c22a048fc894d0742b75c48affe09d21adcc1bd5fb6c2e4"
  },
  "kernelspec": {
   "display_name": "Python 3.9.6 64-bit ('8.0.0': conda)",
   "name": "python3"
  },
  "language_info": {
   "codemirror_mode": {
    "name": "ipython",
    "version": 3
   },
   "file_extension": ".py",
   "mimetype": "text/x-python",
   "name": "python",
   "nbconvert_exporter": "python",
   "pygments_lexer": "ipython3",
   "version": "3.9.6"
  },
  "orig_nbformat": 4
 },
 "nbformat": 4,
 "nbformat_minor": 2
}
