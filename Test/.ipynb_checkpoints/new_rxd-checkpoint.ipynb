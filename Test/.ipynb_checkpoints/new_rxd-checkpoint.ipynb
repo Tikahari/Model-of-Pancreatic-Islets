{
 "cells": [
  {
   "cell_type": "code",
   "execution_count": 2,
   "source": [
    "from neuron import h, units, rxd, load_mechanisms\n",
    "from neuron.units import mV, ms, um, mM\n",
    "import math\n",
    "from matplotlib import pyplot as plt\n",
    "h.load_file(\"stdrun.hoc\")\n",
    "%matplotlib inline\n",
    "from itertools import product\n",
    "import plotly.express as px\n",
    "import pandas as pd"
   ],
   "outputs": [
    {
     "output_type": "stream",
     "name": "stderr",
     "text": [
      "Warning: no DISPLAY environment variable.\n",
      "--No graphics will be displayed.\n"
     ]
    }
   ],
   "metadata": {}
  },
  {
   "cell_type": "code",
   "execution_count": 3,
   "source": [
    "my_cell = h.Section(name = \"my_cell\")"
   ],
   "outputs": [],
   "metadata": {}
  },
  {
   "cell_type": "markdown",
   "source": [
    "# Where\n",
    "\n",
    "For our model we have a few regions where reactions will occur and species will live:\n",
    "\n",
    "* Cytosol - `cyt`\n",
    "* ER - `er`\n",
    "* Mitochondria - `mito`\n",
    "* Microdomain - `mdm`\n",
    "* Extracellular Space - `ecs`\n",
    "\n",
    "## Cytosol\n",
    "\n",
    "Here we use a `rxd.Region` to define the cytosol. We use `nrn_region=\"i\"` to specify that this is just on the inside of the membrane. Since we will have multiple regions inside our section, we will use `geometry=rxd.FractionalVolume` to specify what portion of the volume inside the cell is cytosol and `surface_fraction=1` because we will assume all points of the plasma membrane are in contact with the cytosol. The first argument for `geometry=rxd.FractionalVolume` specifies the portion of the cell volume that the region takes up. From a quick google search, the cytosol makes up about 70% of the volume in the cell. This should be investigated further."
   ],
   "metadata": {}
  },
  {
   "cell_type": "code",
   "execution_count": null,
   "source": [],
   "outputs": [],
   "metadata": {}
  },
  {
   "cell_type": "code",
   "execution_count": 4,
   "source": [
    "cyt = rxd.Region(my_cell,\n",
    "                 nrn_region=\"i\",\n",
    "                 geometry=rxd.FractionalVolume.7(0, surface_fraction=1),\n",
    "                 name=\"cyt\")"
   ],
   "outputs": [],
   "metadata": {}
  },
  {
   "cell_type": "markdown",
   "source": [
    "## Endoplasmic Reticulum\n",
    "\n",
    "`surface_fraction=0` will be used here because we will assume that the er doesn't contact the plasma membrane. A quick google search showed that slightly more than 10% of cell volume can be made up by ER's."
   ],
   "metadata": {}
  },
  {
   "cell_type": "code",
   "execution_count": 6,
   "source": [
    "er = rxd.Region(my_cell,\n",
    "                geometry=rxd.FractionalVolume(0.10, surface_fraction=0),\n",
    "                name=\"er\")"
   ],
   "outputs": [],
   "metadata": {}
  },
  {
   "cell_type": "markdown",
   "source": [
    "## Mitochondria\n",
    "\n",
    "Quick google search (https://www.ncbi.nlm.nih.gov/books/NBK26894/#:~:text=For%20technical%20reasons%2C%20many%20of,fifth%20of%20the%20cell%20volume.) showed that mitochondria can take up to one-fifth of cell volume. Similarly to ER will will assume `surface_fraction=0`."
   ],
   "metadata": {}
  },
  {
   "cell_type": "code",
   "execution_count": 7,
   "source": [
    "mito = rxd.Region(my_cell,\n",
    "                  geometry=rxd.FractionalVolume(0.20, surface_fraction=0),\n",
    "                  name=\"mito\")"
   ],
   "outputs": [],
   "metadata": {}
  },
  {
   "cell_type": "markdown",
   "source": [
    "## Membranes separating cytosol from ER and mitochondria\n",
    "\n",
    "`rxd.MultiCompartmentReactions` crossing this membrane will be scaled by its surface area. Given that we are assuming that all chunks our cell have ER, mitochondria, and cytosol mixed together in the same way, it follows that the area of the membrane within a volume should be proportional to the size of that volume. We indicate this using the `rxd.DistributedBoundary` geometry. The argument inside the distributed boundary indicates the amount of organelle boundary per cubi"
   ],
   "metadata": {}
  }
 ],
 "metadata": {
  "orig_nbformat": 4,
  "language_info": {
   "name": "python",
   "version": "3.9.6",
   "mimetype": "text/x-python",
   "codemirror_mode": {
    "name": "ipython",
    "version": 3
   },
   "pygments_lexer": "ipython3",
   "nbconvert_exporter": "python",
   "file_extension": ".py"
  },
  "kernelspec": {
   "name": "python3",
   "display_name": "Python 3.9.6 64-bit ('8.0.0': conda)"
  },
  "interpreter": {
   "hash": "0f3164d8129cab40951503f743a8d5326e866d31ef6101438dfa741d2ec07893"
  }
 },
 "nbformat": 4,
 "nbformat_minor": 2
}