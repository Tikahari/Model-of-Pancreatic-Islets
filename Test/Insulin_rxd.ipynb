{
 "cells": [
  {
   "cell_type": "code",
   "execution_count": 1,
   "source": [
    "from neuron import h, units, rxd, load_mechanisms\r\n",
    "from neuron.units import mV, ms, um, mM\r\n",
    "import matplotlib\r\n",
    "from matplotlib import pyplot as plt\r\n",
    "h.load_file(\"stdrun.hoc\")\r\n",
    "%matplotlib inline\r\n",
    "from itertools import product\r\n",
    "import plotly.express as px\r\n",
    "import pandas as pd\r\n",
    "import os"
   ],
   "outputs": [],
   "metadata": {}
  },
  {
   "cell_type": "code",
   "execution_count": 2,
   "source": [
    "# Turns off scientific notation and shift in plots\r\n",
    "matplotlib.rc('axes.formatter', useoffset=False)"
   ],
   "outputs": [],
   "metadata": {}
  },
  {
   "cell_type": "code",
   "execution_count": 2,
   "source": [
    "h.CVode().active(False)"
   ],
   "outputs": [
    {
     "output_type": "execute_result",
     "data": {
      "text/plain": [
       "False"
      ]
     },
     "metadata": {},
     "execution_count": 2
    }
   ],
   "metadata": {}
  },
  {
   "cell_type": "code",
   "execution_count": 2,
   "source": [
    "! nrnivmodl\r\n",
    "load_mechanisms(\"C:/Users/rober/OneDrive - University of Florida/Documents/Research/Pancreatic_islet_model/Model-of-Pancreatic-Islets/Test\")"
   ],
   "outputs": [
    {
     "output_type": "stream",
     "name": "stdout",
     "text": [
      "x86_64-w64-mingw32-gcc.exe -DDLL_EXPORT -DPIC -I/cygdrive/c/nrn/bin//../include -I/cygdrive/c/nrn/bin//../src/scopmath -I/cygdrive/c/nrn/bin//../src/nrnoc -I/cygdrive/c/nrn/bin//../src/oc  -c mod_func.c\n",
      "nocmodl one\n",
      "x86_64-w64-mingw32-gcc.exe -DDLL_EXPORT -DPIC -I/cygdrive/c/nrn/bin//../include -I/cygdrive/c/nrn/bin//../src/scopmath -I/cygdrive/c/nrn/bin//../src/nrnoc -I/cygdrive/c/nrn/bin//../src/oc  -c one.c\n",
      "nocmodl steady_k\n",
      "x86_64-w64-mingw32-gcc.exe -DDLL_EXPORT -DPIC -I/cygdrive/c/nrn/bin//../include -I/cygdrive/c/nrn/bin//../src/scopmath -I/cygdrive/c/nrn/bin//../src/nrnoc -I/cygdrive/c/nrn/bin//../src/oc  -c steady_k.c\n",
      "x86_64-w64-mingw32-gcc.exe  -shared mod_func.o one.o steady_k.o \\\n",
      "  -L/cygdrive/c/nrn/bin//../bin -lnrniv -lpthread -o 1621.nrnmech.dll\n",
      "#rebase -b 0x64000000 -v nrnmech.dll\n",
      "\n",
      "nrnmech.dll was built successfully.\n"
     ]
    },
    {
     "output_type": "stream",
     "name": "stderr",
     "text": [
      "Translating one.mod into one.c\n",
      "Thread Safe\n",
      "Translating steady_k.mod into steady_k.c\n",
      "Thread Safe\n"
     ]
    },
    {
     "output_type": "execute_result",
     "data": {
      "text/plain": [
       "True"
      ]
     },
     "metadata": {},
     "execution_count": 2
    }
   ],
   "metadata": {}
  },
  {
   "cell_type": "code",
   "execution_count": 3,
   "source": [
    "# This function assumes the ECS is a cube and each of the voxels are cubes\r\n",
    "# It calculates how many voxels span across on of the sides of the cube\r\n",
    "# The possible indicies for the voxels will the set containing all possible\r\n",
    "# combinations of the numbers from 0 to (length in voxels - 1)\r\n",
    "# This comes out as a iterable object of tuples, so we convert it and each\r\n",
    "# of its elements to lists.\r\n",
    "\r\n",
    "def create_index_list(species, ecs_name):\r\n",
    "    length_in_voxels = len(species[ecs_name].states3d[0][0])\r\n",
    "    coord_list = list(product(range(length_in_voxels), repeat = 3))\r\n",
    "    coord_list = [list(coord) for coord in coord_list]\r\n",
    "    return coord_list\r\n",
    "\r\n",
    "def create_rec_conc_vects(time_vect_name, coord_list, species, ecs_name):\r\n",
    "    vect_dict = {time_vect_name : h.Vector().record(h._ref_t)}\r\n",
    "    num_voxels = len(coord_list)\r\n",
    "    for i in range(num_voxels):\r\n",
    "        vect_dict[str(species) + str(coord_list[i])] = h.Vector()\r\n",
    "        vect_dict[str(species) + str(coord_list[i])].record(species[ecs_name].node_by_ijk(coord_list[i][0], coord_list[i][1], coord_list[i][2])._ref_value)\r\n",
    "    return vect_dict\r\n",
    "\r\n",
    "def voxel_conc_plots(time_vect_name, coord_list, vector_dictionary, species, image_directory):\r\n",
    "    os.mkdir(\"Plots/\" + image_directory)\r\n",
    "    num_voxels = len(coord_list)\r\n",
    "    for i in range(num_voxels):\r\n",
    "        plt.plot(vector_dictionary[time_vect_name], vector_dictionary[str(species) + str(coord_list[i])])\r\n",
    "        plt.title(str(species) + str(coord_list[i]))\r\n",
    "        plt.savefig(\"Plots/\" + image_directory + \"/\" + str(species) + str(coord_list[i]) + \".png\")\r\n",
    "        plt.close()\r\n",
    "\r\n",
    "def run_and_visualize_sim(species, ecs_name, time_vect_name, simulation_time, image_directory):\r\n",
    "    coord_list = create_index_list(species, ecs_name)\r\n",
    "    vector_dictionary = create_rec_conc_vects(time_vect_name, coord_list, species, ecs_name)\r\n",
    "    h.finitialize()\r\n",
    "    h.continuerun(simulation_time * ms)\r\n",
    "    voxel_conc_plots(time_vect_name, coord_list, vector_dictionary, species, image_directory)\r\n",
    "    print(min(vector_dictionary[str(species) + \"[1, 1, 1]\"]), max(vector_dictionary[str(species) + \"[1, 1, 1]\"])) "
   ],
   "outputs": [],
   "metadata": {}
  },
  {
   "cell_type": "markdown",
   "source": [
    "# Testing multiple extracellular spaces\r\n",
    "\r\n",
    "Throughout the first interation of this notebook I learned that if you have more than one extracellular space that things initialize improperly. This can be replicated by creating one extracellular space and running a simulation and then when you create the next and add a species, the initial concentrations in the `states3d` matrix will be zeros regardless of the initial value you input but you will get the right initial value when checking `species.initial` as `initial` is a property of the species and `states3d` is an object of the extracellular space. I thought this was because at first the coordinates of my extracellular spaces were identical meaning if they exist is some more abstract space in the background of NEURON, that they are overlapping. So I tried to create a second space with different coordinates and this was still the case. When instead of creating a second space I created a new species in the same space (Ins_2_test_const_rate_same_ecs) and the results were as they should be despite the initialization being different. The issue might have something to do with files that are created when a reaction-diffusion simulation is ran (name e.g., \"rxddllb77c608a-f973-11eb-8286-c858c0244ed2.so\"). Two were created when I ran a simulation with a singular extracellular space. I ran another identical simulation and two more were created and the results were the same (Insulin_test_const_rate and Insulin_test_const_rate_2). \r\n",
    "\r\n",
    "# Defining reactions with range variables from mod files\r\n",
    "\r\n",
    "I think the weird issue we were having with using the JIS variable from the one mechanism might be because of it's small value causing the integrator to have issues. \r\n",
    "\r\n",
    "## Test case with k_steady mod file\r\n",
    "\r\n",
    "To test this I will first run a simulation using the `ik` range variable in the steady_k mechanism. This worked as expected, I used a initial concentration of 100 and it increased to 2100 over the 2000 ms. I added a line of code that outputs the max and min concentrations during the simulations in the central voxel where the section is.\r\n",
    "\r\n",
    "## Test case using comparable value to JIS\r\n",
    "\r\n",
    "Sometimes the integrator will run into issues when using very small values. JIS initially is 9.608596975100945e-09. NEURON recommends using variable time step integration to deal with this but we haven't been able to successfully use it with our one mechanism. The steady_k will be a good test case since there is no derivative block. Therefore if we use the variable time step here it will effect solely the rxd rate equation and not interact with the mod file. First I will try running a simulation with a small value without variable-step enabled and then I will try it with if I see errors. \r\n",
    "\r\n",
    "### Run 1\r\n",
    "\r\n",
    "No errors were seen with a small initialized value (ik_test_small_init). I am going to see if there is any effect of the argument `atolscale` by removing it (test_const_rate_no_atolscale). The first thing I noticed is the initial values in `states3d` are not zero as they were before, but rather 1e-9 which is what I set it to. After running the simulation, all appears as it should.\r\n",
    "\r\n",
    "## Re-testing simulation using one mechanism and JIS\r\n",
    "\r\n",
    "The plots of this simulation (test_JIS_no_atol) are odd. They show an immediate drop from around 95 to 87, but the values shown for the min and max are 48.04298487550472 48.04298494148047 respectively. The values shown in the plot are to the negative 8th power and appear to match the data. The scientific notation on the border of the plots appears to be a shift. In the figure it says 1e-8+4.8042984e1 which means the values shown are shifted by 48.042984. In the simulation with the one mechanism and no rxd, we saw a constant decrease to below 48 in a 2000 simulation. I will try to reintroduce the `atolscale` argument and then try variable timestep.\r\n",
    "\r\n",
    "### `atolscale`\r\n",
    "Recompile mod file and try with cnexp\r\n"
   ],
   "metadata": {}
  },
  {
   "cell_type": "code",
   "execution_count": 9,
   "source": [
    "48.04298494148047 - 48.04298487550472"
   ],
   "outputs": [
    {
     "output_type": "execute_result",
     "data": {
      "text/plain": [
       "6.597574753186564e-08"
      ]
     },
     "metadata": {},
     "execution_count": 9
    }
   ],
   "metadata": {}
  },
  {
   "cell_type": "code",
   "execution_count": 4,
   "source": [
    "my_cell = h.Section(name = \"my_cell\")\r\n",
    "my_cell.insert(\"one\")\r\n",
    "\r\n",
    "# Give cell length and diameter of 10 micrometers\r\n",
    "my_cell.pt3dadd(10,15,15,10)\r\n",
    "my_cell.pt3dadd(20,15,15,10)\r\n",
    "\r\n",
    "# Create extracellular space that is a 30x30x30 cube made up of 10x10x10 voxels \r\n",
    "ecs = rxd.Extracellular(0,0,0,30,30,30, dx = (10, 10, 10))\r\n",
    "\r\n",
    "# Leave d = 0 so no diffusion meaning no insulin should flow from one voxel to another\r\n",
    "# The concentration curves of all voxels should be the same\r\n",
    "test = rxd.Species(ecs, name = \"test\", d = 0, initial = 48.04298494148047, atolscale=1e-10)"
   ],
   "outputs": [],
   "metadata": {}
  },
  {
   "cell_type": "code",
   "execution_count": 5,
   "source": [
    "test.initial"
   ],
   "outputs": [
    {
     "output_type": "execute_result",
     "data": {
      "text/plain": [
       "48.04298494148047"
      ]
     },
     "metadata": {},
     "execution_count": 5
    }
   ],
   "metadata": {}
  },
  {
   "cell_type": "code",
   "execution_count": 6,
   "source": [
    "test[ecs].states3d"
   ],
   "outputs": [
    {
     "output_type": "execute_result",
     "data": {
      "text/plain": [
       "array([[[48.04298494, 48.04298494, 48.04298494],\n",
       "        [48.04298494, 48.04298494, 48.04298494],\n",
       "        [48.04298494, 48.04298494, 48.04298494]],\n",
       "\n",
       "       [[48.04298494, 48.04298494, 48.04298494],\n",
       "        [48.04298494, 48.04298494, 48.04298494],\n",
       "        [48.04298494, 48.04298494, 48.04298494]],\n",
       "\n",
       "       [[48.04298494, 48.04298494, 48.04298494],\n",
       "        [48.04298494, 48.04298494, 48.04298494],\n",
       "        [48.04298494, 48.04298494, 48.04298494]]])"
      ]
     },
     "metadata": {},
     "execution_count": 6
    }
   ],
   "metadata": {}
  },
  {
   "cell_type": "code",
   "execution_count": 7,
   "source": [
    "# (my_cell(0.5).one.JIS/vc)-fb*Ins\r\n",
    "vc = 1e-13\r\n",
    "fb = 2000\r\n",
    "my_cell(0.5).one.JIS = 9.608596975100945e-09\r\n",
    "print(my_cell(0.5).one.JIS)\r\n",
    "test_rate_rxn_JIS = rxd.Rate(test, (my_cell(0.5).one.JIS/vc)-fb*test, regions = ecs)"
   ],
   "outputs": [
    {
     "output_type": "stream",
     "name": "stdout",
     "text": [
      "9.608596975100945e-09\n"
     ]
    }
   ],
   "metadata": {}
  },
  {
   "cell_type": "code",
   "execution_count": 8,
   "source": [
    "run_and_visualize_sim(test, ecs, \"t_vect\", 2000, \"test_JIS_atol_cnexp_var_time_dis\")"
   ],
   "outputs": [
    {
     "output_type": "stream",
     "name": "stdout",
     "text": [
      "48.04298487550472 48.04298494148047\n"
     ]
    }
   ],
   "metadata": {}
  },
  {
   "cell_type": "markdown",
   "source": [
    "This works as expected if you look at the figures in \"Plots/Insulin_test_const_rate\". The value we need from the `one` mechanism is `JIS`. JIS has a very small value of JIS=9.608596975100945e-09 which is pretty difficult to keep track of so I will create a new cell and insert the `steady_k` mechanism which is a simple mod file:\r\n",
    "\r\n",
    "'''NEURON {\r\n",
    "\tSUFFIX steady_k\r\n",
    "\tUSEION k WRITE ik VALENCE 1\r\n",
    "\tRANGE ik, rate\r\n",
    "}\r\n",
    "\r\n",
    "PARAMETER {\r\n",
    "    rate    (mA/cm2)\r\n",
    "}\r\n",
    "\r\n",
    "INITIAL {\r\n",
    "    rate = 1\r\n",
    "}\r\n",
    " \r\n",
    "ASSIGNED {\r\n",
    "    ik     (mA/cm2)\r\n",
    "}\r\n",
    " \r\n",
    "BREAKPOINT {\r\n",
    "    ik = rate\r\n",
    "}'''\r\n",
    "\r\n",
    "I will make the concentration change equal to `ik` so we should get the same output as before since `ik` is equal to 1. Also, I will make some of the above code into functions to help things move faster"
   ],
   "metadata": {}
  },
  {
   "cell_type": "code",
   "execution_count": 11,
   "source": [
    "my_cell_2 = h.Section(name = \"my_cell_2\")\r\n",
    "my_cell_2.insert(\"steady_k\")"
   ],
   "outputs": [
    {
     "output_type": "execute_result",
     "data": {
      "text/plain": [
       "my_cell_2"
      ]
     },
     "metadata": {},
     "execution_count": 11
    }
   ],
   "metadata": {}
  },
  {
   "cell_type": "code",
   "execution_count": 12,
   "source": [
    "my_cell_2(0.5).steady_k.ik"
   ],
   "outputs": [
    {
     "output_type": "execute_result",
     "data": {
      "text/plain": [
       "0.0"
      ]
     },
     "metadata": {},
     "execution_count": 12
    }
   ],
   "metadata": {}
  },
  {
   "cell_type": "markdown",
   "source": [
    "The value appears to be zero so I will try to set it myself to 1. Also to be safe I will create a new extracellular space as well as species and reaction."
   ],
   "metadata": {}
  },
  {
   "cell_type": "code",
   "execution_count": 13,
   "source": [
    "my_cell_2(0.5).steady_k.ik = 1\r\n",
    "my_cell_2(0.5).steady_k.ik"
   ],
   "outputs": [
    {
     "output_type": "execute_result",
     "data": {
      "text/plain": [
       "1.0"
      ]
     },
     "metadata": {},
     "execution_count": 13
    }
   ],
   "metadata": {}
  },
  {
   "cell_type": "markdown",
   "source": [
    "Location of section and all other parameters will be kept the same as above"
   ],
   "metadata": {}
  },
  {
   "cell_type": "code",
   "execution_count": 14,
   "source": [
    "# Give cell length and diameter of 10 micrometers\r\n",
    "my_cell_2.pt3dadd(10,15,15,10)\r\n",
    "my_cell_2.pt3dadd(20,15,15,10)\r\n",
    "ecs_2 = rxd.Extracellular(0,0,0,30,30,30, dx = (10, 10, 10))\r\n",
    "# Leave d = 0 so no diffusion meaning insulin should stay right outside of membrane\r\n",
    "ik_test = rxd.Species(ecs_2, name = \"ik_test\", d = 0, initial = 1e-9, atolscale=1e-10)"
   ],
   "outputs": [],
   "metadata": {}
  },
  {
   "cell_type": "code",
   "execution_count": 15,
   "source": [
    "ik_test.initial"
   ],
   "outputs": [
    {
     "output_type": "execute_result",
     "data": {
      "text/plain": [
       "1e-09"
      ]
     },
     "metadata": {},
     "execution_count": 15
    }
   ],
   "metadata": {}
  },
  {
   "cell_type": "code",
   "execution_count": 16,
   "source": [
    "ik_test[ecs_2].states3d"
   ],
   "outputs": [
    {
     "output_type": "execute_result",
     "data": {
      "text/plain": [
       "array([[[0., 0., 0.],\n",
       "        [0., 0., 0.],\n",
       "        [0., 0., 0.]],\n",
       "\n",
       "       [[0., 0., 0.],\n",
       "        [0., 0., 0.],\n",
       "        [0., 0., 0.]],\n",
       "\n",
       "       [[0., 0., 0.],\n",
       "        [0., 0., 0.],\n",
       "        [0., 0., 0.]]])"
      ]
     },
     "metadata": {},
     "execution_count": 16
    }
   ],
   "metadata": {}
  },
  {
   "cell_type": "code",
   "execution_count": 17,
   "source": [
    "ik_test_rate = rxd.Rate(ik_test, my_cell_2(0.5).steady_k.ik, regions=ecs_2)"
   ],
   "outputs": [],
   "metadata": {}
  },
  {
   "cell_type": "code",
   "execution_count": 18,
   "source": [
    "run_and_visualize_sim(ik_test, ecs_2, \"t_vect\", 2000, \"ik_test_small_init\")"
   ],
   "outputs": [
    {
     "output_type": "stream",
     "name": "stdout",
     "text": [
      "1e-09 2000.0000000038933\n"
     ]
    }
   ],
   "metadata": {}
  },
  {
   "cell_type": "code",
   "execution_count": null,
   "source": [],
   "outputs": [],
   "metadata": {}
  },
  {
   "cell_type": "markdown",
   "source": [
    "The initial concentrations aren't being set properly in the states3d matrix. Maybe this has to do with them being located in the same space. Lets try to delete the `ecs`, species, section, etc and try to create an equal sized ecs in a different location. "
   ],
   "metadata": {}
  },
  {
   "cell_type": "markdown",
   "source": [
    "As I wrote the code above `ecs_2` did not pop up as a variable as I was typing. There are some temporary files created when I create extracellular spaces and species (e.g., `rxddll7a39935e-f95d-11eb-9f65-c858c0244ed2.so`). I will try to delete all of them and run this again to see if maybe the first extracellular space is saved into one of these files and called whenever I create an instance of extracellular space.\r\n",
    "\r\n",
    "Note: It won't let me delete the files because they are in use. Either from the terminal, the notebook, or file explorer.I am going to close out and use on extracellular space and delete the sections, species, etc in between"
   ],
   "metadata": {}
  },
  {
   "cell_type": "code",
   "execution_count": null,
   "source": [
    "# Redefine the rate reaction\r\n",
    "I_secretion_const = rxd.Rate(Ins, my_cell(0.5).one.JIS, regions = ecs)"
   ],
   "outputs": [],
   "metadata": {}
  },
  {
   "cell_type": "code",
   "execution_count": null,
   "source": [],
   "outputs": [],
   "metadata": {}
  }
 ],
 "metadata": {
  "orig_nbformat": 4,
  "language_info": {
   "name": "python",
   "version": "3.9.6",
   "mimetype": "text/x-python",
   "codemirror_mode": {
    "name": "ipython",
    "version": 3
   },
   "pygments_lexer": "ipython3",
   "nbconvert_exporter": "python",
   "file_extension": ".py"
  },
  "kernelspec": {
   "name": "python3",
   "display_name": "Python 3.9.6 64-bit ('base': conda)"
  },
  "interpreter": {
   "hash": "5f5fe100f7336112f4cdff2f678a7ddc13146038f73bb3d2f0da09bf7b63b145"
  }
 },
 "nbformat": 4,
 "nbformat_minor": 2
}