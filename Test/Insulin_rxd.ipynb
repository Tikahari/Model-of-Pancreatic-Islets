{
 "cells": [
  {
   "cell_type": "code",
   "execution_count": 1,
   "source": [
    "from neuron import h, units, rxd, load_mechanisms\n",
    "from neuron.units import mV, ms, um, mM\n",
    "import math\n",
    "from matplotlib import pyplot as plt\n",
    "h.load_file(\"stdrun.hoc\")\n",
    "%matplotlib inline\n",
    "from itertools import product\n",
    "import plotly.express as px\n",
    "import pandas as pd"
   ],
   "outputs": [
    {
     "output_type": "stream",
     "name": "stderr",
     "text": [
      "Warning: no DISPLAY environment variable.\n",
      "--No graphics will be displayed.\n"
     ]
    }
   ],
   "metadata": {}
  },
  {
   "cell_type": "code",
   "execution_count": null,
   "source": [
    "h.CVode().active(True)"
   ],
   "outputs": [],
   "metadata": {}
  },
  {
   "cell_type": "code",
   "execution_count": 2,
   "source": [
    "my_cell = h.Section(name = \"my_cell\")\n",
    "my_cell.insert(\"one\")"
   ],
   "outputs": [
    {
     "output_type": "execute_result",
     "data": {
      "text/plain": [
       "my_cell"
      ]
     },
     "metadata": {},
     "execution_count": 2
    }
   ],
   "metadata": {}
  },
  {
   "cell_type": "code",
   "execution_count": 3,
   "source": [
    "# Give cell length and diameter of 10 micrometers\n",
    "my_cell.pt3dadd(10,15,15,10)\n",
    "my_cell.pt3dadd(20,15,15,10)\n",
    "ecs = rxd.Extracellular(0,0,0,30,30,30, dx = (10, 10, 10))\n",
    "# Leave d = 0 so no diffusion meaning insulin should stay right outside of membrane\n",
    "I = rxd.Species(ecs, name = \"I\", d = 0, initial = 48.04298494148047, atolscale=1e-10)"
   ],
   "outputs": [],
   "metadata": {}
  },
  {
   "cell_type": "code",
   "execution_count": 4,
   "source": [
    "I.initial"
   ],
   "outputs": [
    {
     "output_type": "execute_result",
     "data": {
      "text/plain": [
       "48.04298494148047"
      ]
     },
     "metadata": {},
     "execution_count": 4
    }
   ],
   "metadata": {}
  },
  {
   "cell_type": "code",
   "execution_count": 5,
   "source": [
    "I[ecs].states3d"
   ],
   "outputs": [
    {
     "output_type": "execute_result",
     "data": {
      "text/plain": [
       "array([[[48.04298494, 48.04298494, 48.04298494],\n",
       "        [48.04298494, 48.04298494, 48.04298494],\n",
       "        [48.04298494, 48.04298494, 48.04298494]],\n",
       "\n",
       "       [[48.04298494, 48.04298494, 48.04298494],\n",
       "        [48.04298494, 48.04298494, 48.04298494],\n",
       "        [48.04298494, 48.04298494, 48.04298494]],\n",
       "\n",
       "       [[48.04298494, 48.04298494, 48.04298494],\n",
       "        [48.04298494, 48.04298494, 48.04298494],\n",
       "        [48.04298494, 48.04298494, 48.04298494]]])"
      ]
     },
     "metadata": {},
     "execution_count": 5
    }
   ],
   "metadata": {}
  },
  {
   "cell_type": "code",
   "execution_count": 6,
   "source": [
    "vc = 1e-13\n",
    "fb = 2000\n",
    "my_cell(0.5).one.JIS = 9.608596975100945e-09"
   ],
   "outputs": [],
   "metadata": {}
  },
  {
   "cell_type": "code",
   "execution_count": 7,
   "source": [
    "my_cell(0.5).one.JIS"
   ],
   "outputs": [
    {
     "output_type": "execute_result",
     "data": {
      "text/plain": [
       "9.608596975100945e-09"
      ]
     },
     "metadata": {},
     "execution_count": 7
    }
   ],
   "metadata": {}
  },
  {
   "cell_type": "code",
   "execution_count": 8,
   "source": [
    "# Create cartesian product of all possible index combinations to create recording vectors for each voxel.\n",
    "coords = list(product([0,1,2], repeat = 3))\n",
    "coords = [list(coord) for coord in coords]"
   ],
   "outputs": [],
   "metadata": {}
  },
  {
   "cell_type": "code",
   "execution_count": 9,
   "source": [
    "# Create doctionary of recording vectors for each voxel\n",
    "vect_dict = {}\n",
    "for i in range(len(coords)):\n",
    "    vect_dict[\"I\" + str(coords[i])] = h.Vector()\n",
    "    vect_dict[\"I\" + str(coords[i])].record(I[ecs].node_by_ijk(coords[i][0], coords[i][1], coords[i][2])._ref_value)"
   ],
   "outputs": [],
   "metadata": {}
  },
  {
   "cell_type": "code",
   "execution_count": 10,
   "source": [
    "I_secretion = rxd.Rate(I, (my_cell(0.5).one.JIS/vc)-fb*I, regions = ecs)"
   ],
   "outputs": [],
   "metadata": {}
  },
  {
   "cell_type": "code",
   "execution_count": 11,
   "source": [
    "# record the time\n",
    "t_vec = h.Vector()\n",
    "t_vec.record(h._ref_t)\n",
    "\n",
    "JIS = h.Vector()\n",
    "JIS.record(my_cell(0.5).one._ref_JIS)"
   ],
   "outputs": [
    {
     "output_type": "execute_result",
     "data": {
      "text/plain": [
       "Vector[29]"
      ]
     },
     "metadata": {},
     "execution_count": 11
    }
   ],
   "metadata": {}
  },
  {
   "cell_type": "code",
   "execution_count": 12,
   "source": [
    "# run the simulation\n",
    "h.finitialize()\n",
    "# for i in range(2000 * 40):\n",
    "#     h.fadvance()\n",
    "#     print(my_cell(0.5).one.JIS)\n",
    "#     input()\n",
    "h.continuerun(2000 * ms)"
   ],
   "outputs": [
    {
     "output_type": "execute_result",
     "data": {
      "text/plain": [
       "0.0"
      ]
     },
     "metadata": {},
     "execution_count": 12
    }
   ],
   "metadata": {}
  },
  {
   "cell_type": "code",
   "execution_count": 13,
   "source": [
    "for i in range(len(coords)):\n",
    "    plt.plot(t_vec, vect_dict[\"I\" + str(coords[i])])\n",
    "    plt.title(\"I\" + str(coords[i]))\n",
    "    plt.savefig(\"Plots/Insulin_test_set_region/I\" + str(coords[i]) + \".png\")\n",
    "    plt.close()"
   ],
   "outputs": [],
   "metadata": {}
  },
  {
   "cell_type": "code",
   "execution_count": null,
   "source": [
    "plt.plot(t_vec, JIS)"
   ],
   "outputs": [],
   "metadata": {}
  },
  {
   "cell_type": "code",
   "execution_count": null,
   "source": [
    "for i in range(20):\n",
    "    print(vect_dict['I[1, 1, 1]'][i])"
   ],
   "outputs": [],
   "metadata": {}
  },
  {
   "cell_type": "code",
   "execution_count": null,
   "source": [
    "help(rxd.Rate)"
   ],
   "outputs": [],
   "metadata": {}
  }
 ],
 "metadata": {
  "orig_nbformat": 4,
  "language_info": {
   "name": "python",
   "version": "3.9.6",
   "mimetype": "text/x-python",
   "codemirror_mode": {
    "name": "ipython",
    "version": 3
   },
   "pygments_lexer": "ipython3",
   "nbconvert_exporter": "python",
   "file_extension": ".py"
  },
  "kernelspec": {
   "name": "python396jvsc74a57bd00f3164d8129cab40951503f743a8d5326e866d31ef6101438dfa741d2ec07893",
   "display_name": "Python 3.9.6 64-bit ('8.0.0': conda)",
   "language": "python"
  }
 },
 "nbformat": 4,
 "nbformat_minor": 2
}