{
 "cells": [
  {
   "cell_type": "markdown",
   "source": [
    "We first need to describe where the reaction diffusion takes place. For us ideally we can model an islet in which our cells exist in extracellular space and hormones diffuse from the ECS into cells and from the cytosol into the ECS. Creating this \"where\" requires you to declare a region, where \"i\" means intracellular (it assumes that the relevant domains are the plasma membrane or volumes immediately adjacent to on either side which may be a large problem. It even states that \"Cell biology models, by contrast, have dynamics spanning a more varied set of locations.\") However, we might be able to get by, by creating an intracellular region for each cell type or cell and one extracellular region for all cells."
   ],
   "metadata": {}
  },
  {
   "cell_type": "markdown",
   "source": [
    "Concentration increases for ECS when a molecule crosses from inside to outside the membrane (vice versa for ICS) via an NMODL or kschan mechanism. If the species is named ca, then its concentration can be read and set via the NEURON and NMODL range variable `cai`. Looks like for 3D ECS diffusion we will use `rxd.Extracellular()` and will need a separate tutorial. Next we need to specify \"who\" is diffusing in or out of the cell. We do this with `rxd.Species()` "
   ],
   "metadata": {}
  },
  {
   "cell_type": "markdown",
   "source": [
    "Specifying the name argument allows these variables to be linked with range variables. Units considered to be in mM whereas BAD model is in pM. Besides the need to be consistent about units, this has implications for variable step integration which by default has an absolute tolerance of (10^{-3}) or 1 μM. To address this, use atolscale to indicate that the tolerance should be scaled for the corresponding variable; e.g. `atolscale = 1e-7` for pM. Note that `initial` is also a property and can be accessed as any other property. "
   ],
   "metadata": {}
  },
  {
   "cell_type": "markdown",
   "source": [
    "Next we must specify how the species interact which is through one or more chemical reactions. Unless `custom_dynamics` is specified, the reaction is considered to be a mass-action reaction. I don't think all of our model is based on mass-action so we will need to look at underlying assumptions. However, for the insulin exocytosis model, all fusion of primed granules assumed to take plae in the microdomain of L type calcium channels. So fusion happens adjacent to the membrane which fits NEURON's assumptions. Typically reactions conserve mass. To model a source or sink, use the non-conservative `rxd.Rate()`. This might be important for replicating results of BAD before extending it. The effects of multiple reactions add together. Rates are proportional to the area between membranes. For example"
   ],
   "metadata": {}
  },
  {
   "cell_type": "markdown",
   "source": [
    "I have never seen many of the functions being used here so I am going to look line by line to see what this is doing. SWC file structure explanation can be found here http://www.neuronland.org/NLMorphologyConverter/MorphologyFormats/SWC/Spec.html.\n",
    "Looking at the output of `mycell.all`, it appears we have a soma, an axon, and 134 dendrites. Although in the actual swc file it appears that we would have 1507 dendrites."
   ],
   "metadata": {}
  },
  {
   "cell_type": "markdown",
   "source": [
    "The swc file follows the following format:\n",
    "* sample number, structure id, x, y, z, radius, parent sample\n",
    "\n",
    "So we essentially have a soma, and axon, and then a branched network of dendrites. To access each section, I can use sec.all and index."
   ],
   "metadata": {}
  },
  {
   "cell_type": "markdown",
   "source": [
    "Keep boundary conditions in consideration, Initial condition in the ECS need not be a scalar concentration. Suppose we only want to apply the buffer shown above to a sphere in the middle of the ECS, this can be achieved by passing function that takes a node as an argument."
   ],
   "metadata": {}
  },
  {
   "cell_type": "markdown",
   "source": [
    "# Test extracellular space: Concentration by Voxel\r\n",
    "\r\n",
    "The mod file we have inserted into our mechanism is releasing calcium at a rate of 1 mA/$cm^{2}$. Lets create a simple cell and a smaller ecs. We really need to see if the location of the cell interacts in any way with the voxels of the extracellular space.\r\n",
    "\r\n",
    "* How big is an islet?\r\n",
    "\r\n",
    "Human islet has average diameter of 130 $u$m with around 200 beta cells. So we can't simulate that many cells. What's an appropriate scale? For now lets use an ECS that is a 100x100x100 $u$m box.\r\n",
    "\r\n",
    "* What is free volume fraction of an islet?\r\n",
    "\r\n",
    "Potentially helpful paper doi: 10.1038/labinvest.2010.124\r\n",
    "\r\n",
    "* Tortuosity?\r\n",
    "\r\n"
   ],
   "metadata": {}
  },
  {
   "cell_type": "code",
   "execution_count": 1,
   "source": [
    "from neuron import h, units, rxd, load_mechanisms\r\n",
    "from neuron.units import mV, ms, um, mM\r\n",
    "import math\r\n",
    "from matplotlib import pyplot as plt\r\n",
    "h.load_file(\"stdrun.hoc\")"
   ],
   "outputs": [],
   "metadata": {}
  },
  {
   "cell_type": "markdown",
   "source": [
    "In order to figure out how the coordinates of the extracellular space and cells play together, we need to first see how to set positions of the cells. Let's create a sample cell and play around with it."
   ],
   "metadata": {}
  },
  {
   "cell_type": "code",
   "execution_count": 2,
   "source": [
    "beta = h.Section(name = \"beta\")"
   ],
   "outputs": [],
   "metadata": {}
  },
  {
   "cell_type": "code",
   "execution_count": 3,
   "source": [
    "print(\"Deault length: \" + str(beta.L), \"Default diameter: \" + str(beta.diam), sep = \"\\n\")"
   ],
   "outputs": [
    {
     "output_type": "stream",
     "name": "stdout",
     "text": [
      "Deault length: 100.0\n",
      "Default diameter: 500.0\n"
     ]
    }
   ],
   "metadata": {}
  },
  {
   "cell_type": "code",
   "execution_count": 4,
   "source": [
    "print(\"Area check: \" + str(math.pi * beta.L * beta.diam), \"Default area: \" + str(beta(0.5).area()), sep=\"\\n\")"
   ],
   "outputs": [
    {
     "output_type": "stream",
     "name": "stdout",
     "text": [
      "Area check: 157079.63267948967\n",
      "Default area: 157079.63267948964\n"
     ]
    }
   ],
   "metadata": {}
  },
  {
   "cell_type": "code",
   "execution_count": 5,
   "source": [
    "beta.L = beta.diam = 15.5\r\n",
    "print(\"New area: \" + str(math.pi * beta.L * beta.diam))"
   ],
   "outputs": [
    {
     "output_type": "stream",
     "name": "stdout",
     "text": [
      "New area: 754.7676350249478\n"
     ]
    }
   ],
   "metadata": {}
  },
  {
   "cell_type": "markdown",
   "source": [
    "This is what we want our section area to be. Lets look at what our x, y, and z coordinates are by default."
   ],
   "metadata": {}
  },
  {
   "cell_type": "code",
   "execution_count": 6,
   "source": [
    "beta.n3d()"
   ],
   "outputs": [
    {
     "output_type": "execute_result",
     "data": {
      "text/plain": [
       "0"
      ]
     },
     "metadata": {},
     "execution_count": 6
    }
   ],
   "metadata": {}
  },
  {
   "cell_type": "markdown",
   "source": [
    "This shows that there are no 3-d coordinates yet. We can add these using NEURON Vectors. Creating a new cell `beta1` we can see how section length and diameter can also be set through defining a cells 3D points."
   ],
   "metadata": {}
  },
  {
   "cell_type": "code",
   "execution_count": 7,
   "source": [
    "beta1 = h.Section(name = \"beta1\")"
   ],
   "outputs": [],
   "metadata": {}
  },
  {
   "cell_type": "code",
   "execution_count": 8,
   "source": [
    "beta1.pt3dadd(0,0,0,15.5)\r\n",
    "beta1.pt3dadd(7.75,0,0,15.5)\r\n",
    "beta1.pt3dadd(15.5,0,0,15.5)"
   ],
   "outputs": [],
   "metadata": {}
  },
  {
   "cell_type": "code",
   "execution_count": 9,
   "source": [
    "print(\"Length: \" + str(beta1.L))\r\n",
    "print(\"Diameter: \" + str(beta1.diam))\r\n",
    "print(\"Area check: \" + str(math.pi * beta1.L * beta1.diam))\r\n",
    "print(\"Area: \" + str(beta1(0.5).area()))"
   ],
   "outputs": [
    {
     "output_type": "stream",
     "name": "stdout",
     "text": [
      "Length: 15.5\n",
      "Diameter: 15.5\n",
      "Area check: 754.7676350249478\n",
      "Area: 754.7676350249478\n"
     ]
    }
   ],
   "metadata": {}
  },
  {
   "cell_type": "markdown",
   "source": [
    "Now if we look at the 3D coordinates, we should see that there are 3. One for the 0 end, one for the 0.5 node, and one for the 1 end. The 3D coordinates should be (0,0,0), (7.75,0,0), and (15.5,0,0)."
   ],
   "metadata": {}
  },
  {
   "cell_type": "code",
   "execution_count": 10,
   "source": [
    "\r\n",
    "print(\"Number of 3D coordinates: \" + str(beta1.n3d()))\r\n",
    "beta1_x = [beta1.x3d(i) for i in range(beta1.n3d())]\r\n",
    "beta1_y = [beta1.y3d(i) for i in range(beta1.n3d())]\r\n",
    "beta1_z = [beta1.z3d(i) for i in range(beta1.n3d())]\r\n",
    "print(\"X's: \" + str(beta1_x))\r\n",
    "print(\"Y's: \" + str(beta1_y))\r\n",
    "print(\"Z's: \" + str(beta1_z))"
   ],
   "outputs": [
    {
     "output_type": "stream",
     "name": "stdout",
     "text": [
      "Number of 3D coordinates: 3\n",
      "X's: [0.0, 7.75, 15.5]\n",
      "Y's: [0.0, 0.0, 0.0]\n",
      "Z's: [0.0, 0.0, 0.0]\n"
     ]
    }
   ],
   "metadata": {}
  },
  {
   "cell_type": "markdown",
   "source": [
    "Now lets create a new section `beta2` and set the 3D coordinates using NEURON vectors. Here we just create 4 vectors: one for x, one for y, one for z, and one for diameters.\r\n",
    "\r\n",
    "* Note: Attempting to do this here and in traditional jupyter notebook caused the kernels to die. I am not sure why, but we will skip this method for now."
   ],
   "metadata": {}
  },
  {
   "cell_type": "code",
   "execution_count": 11,
   "source": [
    "beta2 = h.Section(name = \"beta2\")"
   ],
   "outputs": [],
   "metadata": {}
  },
  {
   "cell_type": "code",
   "execution_count": null,
   "source": [
    "xvec = h.Vector(0,7.75,15.5)\r\n",
    "yvec = h.Vector(0,0,0)\r\n",
    "zvec = h.Vector(0,0,0)\r\n",
    "dvec = h.Vector(15.5,15.5,15.5)\r\n",
    "h.pt3dadd(xvec, yvec, zvec, dvec, sec = beta2)"
   ],
   "outputs": [],
   "metadata": {}
  },
  {
   "cell_type": "markdown",
   "source": [
    "One more thing I would like to do before messing with reaction diffusion is see if I can set the 3D coordinates with two points instead of 3."
   ],
   "metadata": {}
  },
  {
   "cell_type": "code",
   "execution_count": 11,
   "source": [
    "beta3 = h.Section(name = \"beta3\")"
   ],
   "outputs": [],
   "metadata": {}
  },
  {
   "cell_type": "code",
   "execution_count": 12,
   "source": [
    "beta3.pt3dadd(0,0,0,15.5)\r\n",
    "beta3.pt3dadd(15.5,0,0,15.5)"
   ],
   "outputs": [],
   "metadata": {}
  },
  {
   "cell_type": "markdown",
   "source": [
    "At first attempt, this code gave an error because now we need to only use `range(2)` instead of `range(3)`."
   ],
   "metadata": {}
  },
  {
   "cell_type": "code",
   "execution_count": 14,
   "source": [
    "print(\"Number of 3D coordinates: \" + str(beta3.n3d()))\r\n",
    "beta3_x = [beta3.x3d(i) for i in range(beta3.n3d())]\r\n",
    "beta3_y = [beta3.y3d(i) for i in range(beta3.n3d())]\r\n",
    "beta3_z = [beta3.z3d(i) for i in range(beta3.n3d())]\r\n",
    "print(\"X's: \" + str(beta3_x))\r\n",
    "print(\"Y's: \" + str(beta3_y))\r\n",
    "print(\"Z's: \" + str(beta3_z))"
   ],
   "outputs": [
    {
     "output_type": "stream",
     "name": "stdout",
     "text": [
      "Number of 3D coordinates: 2\n",
      "X's: [0.0, 15.5]\n",
      "Y's: [0.0, 0.0]\n",
      "Z's: [0.0, 0.0]\n"
     ]
    }
   ],
   "metadata": {}
  },
  {
   "cell_type": "markdown",
   "source": [
    "Lets check the length, diameter, and area."
   ],
   "metadata": {}
  },
  {
   "cell_type": "code",
   "execution_count": 15,
   "source": [
    "print(\"Length: \" + str(beta3.L))\r\n",
    "print(\"Diameter: \" + str(beta3.diam))\r\n",
    "print(\"Area check: \" + str(math.pi * beta3.L * beta3.diam))\r\n",
    "print(\"Area: \" + str(beta3(0.5).area()))"
   ],
   "outputs": [
    {
     "output_type": "stream",
     "name": "stdout",
     "text": [
      "Length: 15.5\n",
      "Diameter: 15.5\n",
      "Area check: 754.7676350249478\n",
      "Area: 754.7676350249478\n"
     ]
    }
   ],
   "metadata": {}
  },
  {
   "cell_type": "markdown",
   "source": [
    "We can look into orienting the cells at different angles later as I think there is code to do that in some of the tutorials. Lets now create an extracellular space that goes from (0,0,0) to (100,100,100) with a voxel size of 10."
   ],
   "metadata": {}
  },
  {
   "cell_type": "code",
   "execution_count": 16,
   "source": [
    "ecs = rxd.Extracellular(0,0,0,100,100,100, dx = 10)"
   ],
   "outputs": [],
   "metadata": {}
  },
  {
   "cell_type": "markdown",
   "source": [
    "To keep things simple, lets use `beta3` which is the size of a beta cell and insert the mechanism `steady_k` into it. First, lets take a look at `steady_k`:\r\n",
    "\r\n",
    "NEURON {\r\n",
    "\tSUFFIX steady_k\r\n",
    "\tUSEION k WRITE ik VALENCE 1\r\n",
    "\tRANGE ik, rate\r\n",
    "}\r\n",
    "\r\n",
    "PARAMETER {\r\n",
    "    rate    (mA/cm2)\r\n",
    "}\r\n",
    "\r\n",
    "INITIAL {\r\n",
    "    rate = 1\r\n",
    "}\r\n",
    " \r\n",
    "ASSIGNED {\r\n",
    "    ik     (mA/cm2)\r\n",
    "}\r\n",
    " \r\n",
    "BREAKPOINT {\r\n",
    "    ik = rate\r\n",
    "}"
   ],
   "metadata": {}
  },
  {
   "cell_type": "markdown",
   "source": [
    "So this is a simple mod file that writes a current `ik` and has a consistent current of 1 mA/$cm^2$"
   ],
   "metadata": {}
  },
  {
   "cell_type": "code",
   "execution_count": 21,
   "source": [
    "beta3.insert('steady_k')"
   ],
   "outputs": [
    {
     "output_type": "execute_result",
     "data": {
      "text/plain": [
       "beta3"
      ]
     },
     "metadata": {},
     "execution_count": 21
    }
   ],
   "metadata": {
    "scrolled": true
   }
  },
  {
   "cell_type": "markdown",
   "source": [
    "Now we have to create a `Species` for k."
   ],
   "metadata": {}
  },
  {
   "cell_type": "code",
   "execution_count": 22,
   "source": [
    "k = rxd.Species(ecs, d=2.62, name='k', charge=1, initial=3)"
   ],
   "outputs": [
    {
     "output_type": "error",
     "ename": "RxDException",
     "evalue": "Species \"k\" previously defined on region: Extracellular(xlo=0, ylo=0, zlo=0, xhi=100.0, yhi=100.0, zhi=100.0, tortuosity=1.0, volume_fraction=1.0)",
     "traceback": [
      "\u001b[1;31m---------------------------------------------------------------------------\u001b[0m",
      "\u001b[1;31mRxDException\u001b[0m                              Traceback (most recent call last)",
      "\u001b[1;32m~\\AppData\\Local\\Temp/ipykernel_23492/1516219905.py\u001b[0m in \u001b[0;36m<module>\u001b[1;34m\u001b[0m\n\u001b[1;32m----> 1\u001b[1;33m \u001b[0mk\u001b[0m \u001b[1;33m=\u001b[0m \u001b[0mrxd\u001b[0m\u001b[1;33m.\u001b[0m\u001b[0mSpecies\u001b[0m\u001b[1;33m(\u001b[0m\u001b[0mecs\u001b[0m\u001b[1;33m,\u001b[0m \u001b[0md\u001b[0m\u001b[1;33m=\u001b[0m\u001b[1;36m2.62\u001b[0m\u001b[1;33m,\u001b[0m \u001b[0mname\u001b[0m\u001b[1;33m=\u001b[0m\u001b[1;34m'k'\u001b[0m\u001b[1;33m,\u001b[0m \u001b[0mcharge\u001b[0m\u001b[1;33m=\u001b[0m\u001b[1;36m1\u001b[0m\u001b[1;33m,\u001b[0m \u001b[0minitial\u001b[0m\u001b[1;33m=\u001b[0m\u001b[1;36m3\u001b[0m\u001b[1;33m)\u001b[0m\u001b[1;33m\u001b[0m\u001b[1;33m\u001b[0m\u001b[0m\n\u001b[0m",
      "\u001b[1;32mc:\\nrn\\lib\\python\\neuron\\rxd\\species.py\u001b[0m in \u001b[0;36m__init__\u001b[1;34m(self, regions, d, name, charge, initial, atolscale, ecs_boundary_conditions, represents)\u001b[0m\n\u001b[0;32m   1269\u001b[0m             \u001b[1;31m# initialize self if the rest of rxd is already initialized\u001b[0m\u001b[1;33m\u001b[0m\u001b[1;33m\u001b[0m\u001b[1;33m\u001b[0m\u001b[0m\n\u001b[0;32m   1270\u001b[0m             \u001b[1;32mif\u001b[0m \u001b[0minitializer\u001b[0m\u001b[1;33m.\u001b[0m\u001b[0mis_initialized\u001b[0m\u001b[1;33m(\u001b[0m\u001b[1;33m)\u001b[0m\u001b[1;33m:\u001b[0m\u001b[1;33m\u001b[0m\u001b[1;33m\u001b[0m\u001b[0m\n\u001b[1;32m-> 1271\u001b[1;33m                 \u001b[0mself\u001b[0m\u001b[1;33m.\u001b[0m\u001b[0m_do_init\u001b[0m\u001b[1;33m(\u001b[0m\u001b[1;33m)\u001b[0m\u001b[1;33m\u001b[0m\u001b[1;33m\u001b[0m\u001b[0m\n\u001b[0m\u001b[0;32m   1272\u001b[0m                 \u001b[0mrxd\u001b[0m\u001b[1;33m.\u001b[0m\u001b[0m_update_node_data\u001b[0m\u001b[1;33m(\u001b[0m\u001b[1;32mTrue\u001b[0m\u001b[1;33m,\u001b[0m \u001b[1;32mTrue\u001b[0m\u001b[1;33m)\u001b[0m\u001b[1;33m\u001b[0m\u001b[1;33m\u001b[0m\u001b[0m\n\u001b[0;32m   1273\u001b[0m \u001b[1;33m\u001b[0m\u001b[0m\n",
      "\u001b[1;32mc:\\nrn\\lib\\python\\neuron\\rxd\\species.py\u001b[0m in \u001b[0;36m_do_init\u001b[1;34m(self)\u001b[0m\n\u001b[0;32m   1274\u001b[0m \u001b[1;33m\u001b[0m\u001b[0m\n\u001b[0;32m   1275\u001b[0m     \u001b[1;32mdef\u001b[0m \u001b[0m_do_init\u001b[0m\u001b[1;33m(\u001b[0m\u001b[0mself\u001b[0m\u001b[1;33m)\u001b[0m\u001b[1;33m:\u001b[0m\u001b[1;33m\u001b[0m\u001b[1;33m\u001b[0m\u001b[0m\n\u001b[1;32m-> 1276\u001b[1;33m         \u001b[0mself\u001b[0m\u001b[1;33m.\u001b[0m\u001b[0m_do_init1\u001b[0m\u001b[1;33m(\u001b[0m\u001b[1;33m)\u001b[0m\u001b[1;33m\u001b[0m\u001b[1;33m\u001b[0m\u001b[0m\n\u001b[0m\u001b[0;32m   1277\u001b[0m         \u001b[0mself\u001b[0m\u001b[1;33m.\u001b[0m\u001b[0m_do_init2\u001b[0m\u001b[1;33m(\u001b[0m\u001b[1;33m)\u001b[0m\u001b[1;33m\u001b[0m\u001b[1;33m\u001b[0m\u001b[0m\n\u001b[0;32m   1278\u001b[0m         \u001b[0mself\u001b[0m\u001b[1;33m.\u001b[0m\u001b[0m_do_init3\u001b[0m\u001b[1;33m(\u001b[0m\u001b[1;33m)\u001b[0m\u001b[1;33m\u001b[0m\u001b[1;33m\u001b[0m\u001b[0m\n",
      "\u001b[1;32mc:\\nrn\\lib\\python\\neuron\\rxd\\species.py\u001b[0m in \u001b[0;36m_do_init1\u001b[1;34m(self)\u001b[0m\n\u001b[0;32m   1307\u001b[0m                 \u001b[1;32mfor\u001b[0m \u001b[0mr\u001b[0m \u001b[1;32min\u001b[0m \u001b[0mregions\u001b[0m\u001b[1;33m:\u001b[0m\u001b[1;33m\u001b[0m\u001b[1;33m\u001b[0m\u001b[0m\n\u001b[0;32m   1308\u001b[0m                     \u001b[1;32mif\u001b[0m \u001b[0mr\u001b[0m \u001b[1;32min\u001b[0m \u001b[0m_defined_species\u001b[0m\u001b[1;33m[\u001b[0m\u001b[0mname\u001b[0m\u001b[1;33m]\u001b[0m\u001b[1;33m:\u001b[0m\u001b[1;33m\u001b[0m\u001b[1;33m\u001b[0m\u001b[0m\n\u001b[1;32m-> 1309\u001b[1;33m                         \u001b[1;32mraise\u001b[0m \u001b[0mRxDException\u001b[0m\u001b[1;33m(\u001b[0m\u001b[1;34m'Species \"%s\" previously defined on region: %r'\u001b[0m \u001b[1;33m%\u001b[0m \u001b[1;33m(\u001b[0m\u001b[0mname\u001b[0m\u001b[1;33m,\u001b[0m \u001b[0mr\u001b[0m\u001b[1;33m)\u001b[0m\u001b[1;33m)\u001b[0m\u001b[1;33m\u001b[0m\u001b[1;33m\u001b[0m\u001b[0m\n\u001b[0m\u001b[0;32m   1310\u001b[0m                     \u001b[1;32mif\u001b[0m \u001b[0mhasattr\u001b[0m\u001b[1;33m(\u001b[0m\u001b[0mr\u001b[0m\u001b[1;33m,\u001b[0m\u001b[1;34m'_secs'\u001b[0m\u001b[1;33m)\u001b[0m\u001b[1;33m:\u001b[0m\u001b[1;33m\u001b[0m\u001b[1;33m\u001b[0m\u001b[0m\n\u001b[0;32m   1311\u001b[0m                         \u001b[1;32mif\u001b[0m \u001b[0mr\u001b[0m\u001b[1;33m.\u001b[0m\u001b[0mnrn_region\u001b[0m \u001b[1;33m==\u001b[0m \u001b[1;34m'i'\u001b[0m\u001b[1;33m:\u001b[0m\u001b[1;33m\u001b[0m\u001b[1;33m\u001b[0m\u001b[0m\n",
      "\u001b[1;31mRxDException\u001b[0m: Species \"k\" previously defined on region: Extracellular(xlo=0, ylo=0, zlo=0, xhi=100.0, yhi=100.0, zhi=100.0, tortuosity=1.0, volume_fraction=1.0)"
     ]
    }
   ],
   "metadata": {}
  },
  {
   "cell_type": "markdown",
   "source": [
    "Extracellular concentrations at voxels are accessible through `states3d`"
   ],
   "metadata": {}
  },
  {
   "cell_type": "code",
   "execution_count": 23,
   "source": [
    "k[ecs].states3d"
   ],
   "outputs": [
    {
     "output_type": "execute_result",
     "data": {
      "text/plain": [
       "array([[[3., 3., 3., 3., 3., 3., 3., 3., 3., 3.],\n",
       "        [3., 3., 3., 3., 3., 3., 3., 3., 3., 3.],\n",
       "        [3., 3., 3., 3., 3., 3., 3., 3., 3., 3.],\n",
       "        [3., 3., 3., 3., 3., 3., 3., 3., 3., 3.],\n",
       "        [3., 3., 3., 3., 3., 3., 3., 3., 3., 3.],\n",
       "        [3., 3., 3., 3., 3., 3., 3., 3., 3., 3.],\n",
       "        [3., 3., 3., 3., 3., 3., 3., 3., 3., 3.],\n",
       "        [3., 3., 3., 3., 3., 3., 3., 3., 3., 3.],\n",
       "        [3., 3., 3., 3., 3., 3., 3., 3., 3., 3.],\n",
       "        [3., 3., 3., 3., 3., 3., 3., 3., 3., 3.]],\n",
       "\n",
       "       [[3., 3., 3., 3., 3., 3., 3., 3., 3., 3.],\n",
       "        [3., 3., 3., 3., 3., 3., 3., 3., 3., 3.],\n",
       "        [3., 3., 3., 3., 3., 3., 3., 3., 3., 3.],\n",
       "        [3., 3., 3., 3., 3., 3., 3., 3., 3., 3.],\n",
       "        [3., 3., 3., 3., 3., 3., 3., 3., 3., 3.],\n",
       "        [3., 3., 3., 3., 3., 3., 3., 3., 3., 3.],\n",
       "        [3., 3., 3., 3., 3., 3., 3., 3., 3., 3.],\n",
       "        [3., 3., 3., 3., 3., 3., 3., 3., 3., 3.],\n",
       "        [3., 3., 3., 3., 3., 3., 3., 3., 3., 3.],\n",
       "        [3., 3., 3., 3., 3., 3., 3., 3., 3., 3.]],\n",
       "\n",
       "       [[3., 3., 3., 3., 3., 3., 3., 3., 3., 3.],\n",
       "        [3., 3., 3., 3., 3., 3., 3., 3., 3., 3.],\n",
       "        [3., 3., 3., 3., 3., 3., 3., 3., 3., 3.],\n",
       "        [3., 3., 3., 3., 3., 3., 3., 3., 3., 3.],\n",
       "        [3., 3., 3., 3., 3., 3., 3., 3., 3., 3.],\n",
       "        [3., 3., 3., 3., 3., 3., 3., 3., 3., 3.],\n",
       "        [3., 3., 3., 3., 3., 3., 3., 3., 3., 3.],\n",
       "        [3., 3., 3., 3., 3., 3., 3., 3., 3., 3.],\n",
       "        [3., 3., 3., 3., 3., 3., 3., 3., 3., 3.],\n",
       "        [3., 3., 3., 3., 3., 3., 3., 3., 3., 3.]],\n",
       "\n",
       "       [[3., 3., 3., 3., 3., 3., 3., 3., 3., 3.],\n",
       "        [3., 3., 3., 3., 3., 3., 3., 3., 3., 3.],\n",
       "        [3., 3., 3., 3., 3., 3., 3., 3., 3., 3.],\n",
       "        [3., 3., 3., 3., 3., 3., 3., 3., 3., 3.],\n",
       "        [3., 3., 3., 3., 3., 3., 3., 3., 3., 3.],\n",
       "        [3., 3., 3., 3., 3., 3., 3., 3., 3., 3.],\n",
       "        [3., 3., 3., 3., 3., 3., 3., 3., 3., 3.],\n",
       "        [3., 3., 3., 3., 3., 3., 3., 3., 3., 3.],\n",
       "        [3., 3., 3., 3., 3., 3., 3., 3., 3., 3.],\n",
       "        [3., 3., 3., 3., 3., 3., 3., 3., 3., 3.]],\n",
       "\n",
       "       [[3., 3., 3., 3., 3., 3., 3., 3., 3., 3.],\n",
       "        [3., 3., 3., 3., 3., 3., 3., 3., 3., 3.],\n",
       "        [3., 3., 3., 3., 3., 3., 3., 3., 3., 3.],\n",
       "        [3., 3., 3., 3., 3., 3., 3., 3., 3., 3.],\n",
       "        [3., 3., 3., 3., 3., 3., 3., 3., 3., 3.],\n",
       "        [3., 3., 3., 3., 3., 3., 3., 3., 3., 3.],\n",
       "        [3., 3., 3., 3., 3., 3., 3., 3., 3., 3.],\n",
       "        [3., 3., 3., 3., 3., 3., 3., 3., 3., 3.],\n",
       "        [3., 3., 3., 3., 3., 3., 3., 3., 3., 3.],\n",
       "        [3., 3., 3., 3., 3., 3., 3., 3., 3., 3.]],\n",
       "\n",
       "       [[3., 3., 3., 3., 3., 3., 3., 3., 3., 3.],\n",
       "        [3., 3., 3., 3., 3., 3., 3., 3., 3., 3.],\n",
       "        [3., 3., 3., 3., 3., 3., 3., 3., 3., 3.],\n",
       "        [3., 3., 3., 3., 3., 3., 3., 3., 3., 3.],\n",
       "        [3., 3., 3., 3., 3., 3., 3., 3., 3., 3.],\n",
       "        [3., 3., 3., 3., 3., 3., 3., 3., 3., 3.],\n",
       "        [3., 3., 3., 3., 3., 3., 3., 3., 3., 3.],\n",
       "        [3., 3., 3., 3., 3., 3., 3., 3., 3., 3.],\n",
       "        [3., 3., 3., 3., 3., 3., 3., 3., 3., 3.],\n",
       "        [3., 3., 3., 3., 3., 3., 3., 3., 3., 3.]],\n",
       "\n",
       "       [[3., 3., 3., 3., 3., 3., 3., 3., 3., 3.],\n",
       "        [3., 3., 3., 3., 3., 3., 3., 3., 3., 3.],\n",
       "        [3., 3., 3., 3., 3., 3., 3., 3., 3., 3.],\n",
       "        [3., 3., 3., 3., 3., 3., 3., 3., 3., 3.],\n",
       "        [3., 3., 3., 3., 3., 3., 3., 3., 3., 3.],\n",
       "        [3., 3., 3., 3., 3., 3., 3., 3., 3., 3.],\n",
       "        [3., 3., 3., 3., 3., 3., 3., 3., 3., 3.],\n",
       "        [3., 3., 3., 3., 3., 3., 3., 3., 3., 3.],\n",
       "        [3., 3., 3., 3., 3., 3., 3., 3., 3., 3.],\n",
       "        [3., 3., 3., 3., 3., 3., 3., 3., 3., 3.]],\n",
       "\n",
       "       [[3., 3., 3., 3., 3., 3., 3., 3., 3., 3.],\n",
       "        [3., 3., 3., 3., 3., 3., 3., 3., 3., 3.],\n",
       "        [3., 3., 3., 3., 3., 3., 3., 3., 3., 3.],\n",
       "        [3., 3., 3., 3., 3., 3., 3., 3., 3., 3.],\n",
       "        [3., 3., 3., 3., 3., 3., 3., 3., 3., 3.],\n",
       "        [3., 3., 3., 3., 3., 3., 3., 3., 3., 3.],\n",
       "        [3., 3., 3., 3., 3., 3., 3., 3., 3., 3.],\n",
       "        [3., 3., 3., 3., 3., 3., 3., 3., 3., 3.],\n",
       "        [3., 3., 3., 3., 3., 3., 3., 3., 3., 3.],\n",
       "        [3., 3., 3., 3., 3., 3., 3., 3., 3., 3.]],\n",
       "\n",
       "       [[3., 3., 3., 3., 3., 3., 3., 3., 3., 3.],\n",
       "        [3., 3., 3., 3., 3., 3., 3., 3., 3., 3.],\n",
       "        [3., 3., 3., 3., 3., 3., 3., 3., 3., 3.],\n",
       "        [3., 3., 3., 3., 3., 3., 3., 3., 3., 3.],\n",
       "        [3., 3., 3., 3., 3., 3., 3., 3., 3., 3.],\n",
       "        [3., 3., 3., 3., 3., 3., 3., 3., 3., 3.],\n",
       "        [3., 3., 3., 3., 3., 3., 3., 3., 3., 3.],\n",
       "        [3., 3., 3., 3., 3., 3., 3., 3., 3., 3.],\n",
       "        [3., 3., 3., 3., 3., 3., 3., 3., 3., 3.],\n",
       "        [3., 3., 3., 3., 3., 3., 3., 3., 3., 3.]],\n",
       "\n",
       "       [[3., 3., 3., 3., 3., 3., 3., 3., 3., 3.],\n",
       "        [3., 3., 3., 3., 3., 3., 3., 3., 3., 3.],\n",
       "        [3., 3., 3., 3., 3., 3., 3., 3., 3., 3.],\n",
       "        [3., 3., 3., 3., 3., 3., 3., 3., 3., 3.],\n",
       "        [3., 3., 3., 3., 3., 3., 3., 3., 3., 3.],\n",
       "        [3., 3., 3., 3., 3., 3., 3., 3., 3., 3.],\n",
       "        [3., 3., 3., 3., 3., 3., 3., 3., 3., 3.],\n",
       "        [3., 3., 3., 3., 3., 3., 3., 3., 3., 3.],\n",
       "        [3., 3., 3., 3., 3., 3., 3., 3., 3., 3.],\n",
       "        [3., 3., 3., 3., 3., 3., 3., 3., 3., 3.]]])"
      ]
     },
     "metadata": {},
     "execution_count": 23
    }
   ],
   "metadata": {}
  },
  {
   "cell_type": "markdown",
   "source": [
    "So what exactly is this representing? It's a 3D vector made up of 10 2D vectors that each consist of 10 1D vectors each with 10 elements. The value is the initial concentration of the Species. So whenever we create an extracellular space and add a Species inside of it, the initial value is set at each voxel by default. We will need to change this. Next lets run a simulatuion and record the concentration at a voxel close to our cell and far away. To record from a voxel, we can either record using the voxels index or we can record by giving the location of the node. First we will use the location of the node and then we will see how to write equivalent statements using locations of nodes and indices inside `states3d`. You can think of each voxel as a node and the nodes can be accessed through the `nodes` property. Thinking about where our section is, we have a section that is 15.5 $\\mu m$  long and wide that is centered along the x-axis. Therefore the concentration at the point (10,10,10) should be higher than the concentration at (10,10,20)."
   ],
   "metadata": {}
  },
  {
   "cell_type": "code",
   "execution_count": 24,
   "source": [
    "print(\"Number of voxels/nodes: \" + str(len(k.nodes)))"
   ],
   "outputs": [
    {
     "output_type": "stream",
     "name": "stdout",
     "text": [
      "Number of voxels/nodes: 1000\n"
     ]
    }
   ],
   "metadata": {}
  },
  {
   "cell_type": "code",
   "execution_count": 25,
   "source": [
    "# record from an extracellular nodes given by the x,y,z location\r\n",
    "kecs_vec0 = h.Vector()\r\n",
    "kecs_vec0.record(k[ecs].node_by_location(10, 10, 10)._ref_value) \r\n",
    "\r\n",
    "kecs_vec1 = h.Vector()\r\n",
    "kecs_vec1.record(k[ecs].node_by_location(10, 10, 20)._ref_value) \r\n",
    "\r\n",
    "# record the time\r\n",
    "t_vec = h.Vector()\r\n",
    "t_vec.record(h._ref_t)\r\n",
    "\r\n",
    "# run the simulation\r\n",
    "h.finitialize()\r\n",
    "h.continuerun(2000 * ms)\r\n",
    "\r\n",
    "# plot the concentations\r\n",
    "plt.plot(t_vec, kecs_vec0, label='near the cell')\r\n",
    "plt.plot(t_vec, kecs_vec1, label='far from the cell')\r\n",
    "plt.legend()"
   ],
   "outputs": [
    {
     "output_type": "execute_result",
     "data": {
      "text/plain": [
       "<matplotlib.legend.Legend at 0x21c13fa6820>"
      ]
     },
     "metadata": {},
     "execution_count": 25
    },
    {
     "output_type": "display_data",
     "data": {
      "text/plain": [
       "<Figure size 432x288 with 1 Axes>"
      ],
      "image/png": "[encoded data removed]"
     },
     "metadata": {
      "needs_background": "light"
     }
    }
   ],
   "metadata": {}
  },
  {
   "cell_type": "markdown",
   "source": [
    "Now I would like to try and find how to make equivalent curves using the index into `states3d` so we know how the two work relative to each other. Now that a simulation has been ran, I wonder if `states3d` will still show the same concentrations."
   ],
   "metadata": {}
  },
  {
   "cell_type": "code",
   "execution_count": 50,
   "source": [
    "k[ecs].states3d"
   ],
   "outputs": [
    {
     "output_type": "execute_result",
     "data": {
      "text/plain": [
       "array([[[4.63790476, 3.76821686, 3.44748277, 3.29990678, 3.21962082,\n",
       "         3.17104419, 3.14003333, 3.12014859, 3.10819196, 3.1025548 ],\n",
       "        [3.76821686, 3.53478833, 3.37120845, 3.26967093, 3.20547982,\n",
       "         3.16350835, 3.13557157, 3.11723442, 3.10606241, 3.10075943],\n",
       "        [3.44748277, 3.37120845, 3.2922834 , 3.22984662, 3.18395094,\n",
       "         3.15100963, 3.12778143, 3.11198243, 3.10214935, 3.09742852],\n",
       "        [3.29990678, 3.26967093, 3.22984662, 3.19226747, 3.16098316,\n",
       "         3.13651115, 3.11821521, 3.10527793, 3.09702603, 3.09301038],\n",
       "        [3.21962082, 3.20547982, 3.18395094, 3.16098316, 3.13993247,\n",
       "         3.12222889, 3.1082751 , 3.0980352 , 3.09134237, 3.08804005],\n",
       "        [3.17104419, 3.16350835, 3.15100963, 3.13651115, 3.12222889,\n",
       "         3.10949571, 3.09899691, 3.09103327, 3.08570981, 3.08304873],\n",
       "        [3.14003333, 3.13557157, 3.12778143, 3.11821521, 3.1082751 ,\n",
       "         3.09899691, 3.0910575 , 3.08486283, 3.08063954, 3.07850381],\n",
       "        [3.12014859, 3.11723442, 3.11198243, 3.10527793, 3.0980352 ,\n",
       "         3.09103327, 3.08486283, 3.0799366 , 3.07652289, 3.07477973],\n",
       "        [3.10819196, 3.10606241, 3.10214935, 3.09702603, 3.09134237,\n",
       "         3.08570981, 3.08063954, 3.07652289, 3.07363551, 3.07215038],\n",
       "        [3.1025548 , 3.10075943, 3.09742852, 3.09301038, 3.08804005,\n",
       "         3.08304873, 3.07850381, 3.07477973, 3.07215038, 3.0707926 ]],\n",
       "\n",
       "       [[3.8084642 , 3.55932797, 3.38435177, 3.27665792, 3.20935745,\n",
       "         3.16580115, 3.13702897, 3.11824024, 3.10682983, 3.10142314],\n",
       "        [3.55932797, 3.44311646, 3.33307058, 3.25261791, 3.19703924,\n",
       "         3.15890245, 3.13282768, 3.11544888, 3.10476829, 3.09967571],\n",
       "        [3.38435177, 3.33307058, 3.27175251, 3.21877164, 3.17771812,\n",
       "         3.14730629, 3.12544655, 3.1104031 , 3.10097454, 3.096431  ],\n",
       "        [3.27665792, 3.25261791, 3.21877164, 3.18531929, 3.15660349,\n",
       "         3.13368431, 3.11632169, 3.10393859, 3.09599775, 3.0921221 ],\n",
       "        [3.20935745, 3.19703924, 3.17771812, 3.15660349, 3.13690459,\n",
       "         3.12012603, 3.10678261, 3.09693044, 3.09046537, 3.08726829],\n",
       "        [3.16580115, 3.15890245, 3.14730629, 3.13368431, 3.12012603,\n",
       "         3.10794101, 3.09783378, 3.09013412, 3.08497226, 3.08238768],\n",
       "        [3.13702897, 3.13282768, 3.12544655, 3.11632169, 3.10678261,\n",
       "         3.09783378, 3.09014577, 3.08412945, 3.0800194 , 3.07793845],\n",
       "        [3.11824024, 3.11544888, 3.1104031 , 3.10393859, 3.09693044,\n",
       "         3.09013412, 3.08412945, 3.07932605, 3.0759928 , 3.07428931],\n",
       "        [3.10682983, 3.10476829, 3.10097454, 3.09599775, 3.09046537,\n",
       "         3.08497226, 3.0800194 , 3.0759928 , 3.0731659 , 3.07171106],\n",
       "        [3.10142314, 3.09967571, 3.096431  , 3.0921221 , 3.08726829,\n",
       "         3.08238768, 3.07793845, 3.07428931, 3.07171106, 3.07037909]],\n",
       "\n",
       "       [[3.47948959, 3.39468161, 3.30740599, 3.23923561, 3.18984054,\n",
       "         3.15483717, 3.13039937, 3.11389544, 3.10367135, 3.0987756 ],\n",
       "        [3.39468161, 3.34130193, 3.27756031, 3.22267466, 3.1803297 ,\n",
       "         3.14909405, 3.12672214, 3.11136766, 3.10176181, 3.0971377 ],\n",
       "        [3.30740599, 3.27756031, 3.2367265 , 3.19754827, 3.16480246,\n",
       "         3.13923412, 3.12018908, 3.10677111, 3.09823662, 3.09409058],\n",
       "        [3.23923561, 3.22267466, 3.19754827, 3.1710645 , 3.14717049,\n",
       "         3.12738833, 3.11200647, 3.10083789, 3.09359248, 3.09003324],\n",
       "        [3.18984054, 3.1803297 , 3.16480246, 3.14717049, 3.13018755,\n",
       "         3.11535844, 3.10334484, 3.09435656, 3.08840631, 3.08544902],\n",
       "        [3.15483717, 3.14909405, 3.13923412, 3.12738833, 3.11535844,\n",
       "         3.10436654, 3.09513068, 3.08802757, 3.08323464, 3.08082573],\n",
       "        [3.13039937, 3.12672214, 3.12018908, 3.11200647, 3.10334484,\n",
       "         3.09513068, 3.08801161, 3.08240322, 3.07855395, 3.0765997 ],\n",
       "        [3.11389544, 3.11136766, 3.10677111, 3.10083789, 3.09435656,\n",
       "         3.08802757, 3.08240322, 3.07788356, 3.07473705, 3.07312588],\n",
       "        [3.10367135, 3.10176181, 3.09823662, 3.09359248, 3.08840631,\n",
       "         3.08323464, 3.07855395, 3.07473705, 3.07205143, 3.07066744],\n",
       "        [3.0987756 , 3.0971377 , 3.09409058, 3.09003324, 3.08544902,\n",
       "         3.08082573, 3.0765997 , 3.07312588, 3.07066744, 3.06939607]],\n",
       "\n",
       "       [[3.32232224, 3.28807141, 3.24338485, 3.20177675, 3.16761303,\n",
       "         3.14121307, 3.12166791, 3.10794693, 3.09923779, 3.09501148],\n",
       "        [3.28807141, 3.26239772, 3.22636396, 3.19093152, 3.16069505,\n",
       "         3.13669862, 3.11860739, 3.10575258, 3.09753053, 3.09352367],\n",
       "        [3.24338485, 3.22636396, 3.20056644, 3.17342056, 3.14897729,\n",
       "         3.12877982, 3.11310187, 3.10173374, 3.09436597, 3.09074868],\n",
       "        [3.20177675, 3.19093152, 3.17342056, 3.15379459, 3.13513345,\n",
       "         3.11902516, 3.10609847, 3.09649724, 3.09017354, 3.08704006],\n",
       "        [3.16761303, 3.16069505, 3.14897729, 3.13513345, 3.12131224,\n",
       "         3.10887887, 3.09856837, 3.09072005, 3.08546292, 3.08283221],\n",
       "        [3.14121307, 3.13669862, 3.12877982, 3.11902516, 3.10887887,\n",
       "         3.09941372, 3.09132602, 3.08502614, 3.08073735, 3.07857056],\n",
       "        [3.12166791, 3.11860739, 3.11310187, 3.10609847, 3.09856837,\n",
       "         3.09132602, 3.08497498, 3.07992572, 3.07643771, 3.07466004],\n",
       "        [3.10794693, 3.10575258, 3.10173374, 3.09649724, 3.09072005,\n",
       "         3.08502614, 3.07992572, 3.07580103, 3.07291637, 3.07143523],\n",
       "        [3.09923779, 3.09753053, 3.09436597, 3.09017354, 3.08546292,\n",
       "         3.08073735, 3.07643771, 3.07291637, 3.07043085, 3.06914751],\n",
       "        [3.09501148, 3.09352367, 3.09074868, 3.08704006, 3.08283221,\n",
       "         3.07857056, 3.07466004, 3.07143523, 3.06914751, 3.06796268]],\n",
       "\n",
       "       [[3.23584469, 3.21975631, 3.19548718, 3.16989334, 3.14670684,\n",
       "         3.1274078 , 3.11232446, 3.10132617, 3.09416925, 3.09064699],\n",
       "        [3.21975631, 3.20639686, 3.18552152, 3.16283032, 3.14178479,\n",
       "         3.1239591 , 3.10985047, 3.09947207, 3.09267955, 3.08932574],\n",
       "        [3.19548718, 3.18552152, 3.16927704, 3.15087284, 3.13319246,\n",
       "         3.11779402, 3.10534739, 3.09605196, 3.08990634, 3.08685432],\n",
       "        [3.16989334, 3.16283032, 3.15087284, 3.1367562 , 3.12267465,\n",
       "         3.11001786, 3.09953008, 3.09155175, 3.08620995, 3.08353758],\n",
       "        [3.14670684, 3.14178479, 3.13319246, 3.12267465, 3.1118075 ,\n",
       "         3.10173372, 3.09317294, 3.08653368, 3.08202809, 3.0797561 ],\n",
       "        [3.1274078 , 3.1239591 , 3.11779402, 3.11001786, 3.10173372,\n",
       "         3.09383664, 3.0869654 , 3.08153702, 3.07780438, 3.07590732],\n",
       "        [3.11232446, 3.10985047, 3.10534739, 3.09953008, 3.09317294,\n",
       "         3.0869654 , 3.0814506 , 3.07702069, 3.07393776, 3.07235953],\n",
       "        [3.10132617, 3.09947207, 3.09605196, 3.09155175, 3.08653368,\n",
       "         3.08153702, 3.07702069, 3.07334167, 3.070755  , 3.06942258],\n",
       "        [3.09416925, 3.09267955, 3.08990634, 3.08620995, 3.08202809,\n",
       "         3.07780438, 3.07393776, 3.070755  , 3.06850003, 3.06733305],\n",
       "        [3.09064699, 3.08932574, 3.08685432, 3.08353758, 3.0797561 ,\n",
       "         3.07590732, 3.07235953, 3.06942258, 3.06733305, 3.06624892]],\n",
       "\n",
       "       [[3.18372815, 3.17516325, 3.16105706, 3.14483639, 3.12899851,\n",
       "         3.11499088, 3.10351779, 3.09485959, 3.08909257, 3.08621585],\n",
       "        [3.17516325, 3.16760714, 3.1549485 , 3.14014625, 3.12548584,\n",
       "         3.11237188, 3.10153787, 3.09331077, 3.08780781, 3.08505617],\n",
       "        [3.16105706, 3.1549485 , 3.14447717, 3.13192422, 3.11920744,\n",
       "         3.10761585, 3.09789682, 3.09043495, 3.08540621, 3.08288068],\n",
       "        [3.14483639, 3.14014625, 3.13192422, 3.12180502, 3.11129032,\n",
       "         3.1014916 , 3.09312668, 3.08661587, 3.08218599, 3.0799487 ],\n",
       "        [3.12899851, 3.12548584, 3.11920744, 3.11129032, 3.10285852,\n",
       "         3.09482315, 3.08783361, 3.08231311, 3.07851782, 3.07658915],\n",
       "        [3.11499088, 3.11237188, 3.10761585, 3.1014916 , 3.09482315,\n",
       "         3.08833471, 3.08258864, 3.07798497, 3.07478726, 3.07315218],\n",
       "        [3.10351779, 3.10153787, 3.09789682, 3.09312668, 3.08783361,\n",
       "         3.08258864, 3.07786847, 3.07403714, 3.07135046, 3.06996874],\n",
       "        [3.09485959, 3.09331077, 3.09043495, 3.08661587, 3.08231311,\n",
       "         3.07798497, 3.07403714, 3.07079711, 3.06850651, 3.06732263],\n",
       "        [3.08909257, 3.08780781, 3.08540621, 3.08218599, 3.07851782,\n",
       "         3.07478726, 3.07135046, 3.06850651, 3.06648363, 3.06543421],\n",
       "        [3.08621585, 3.08505617, 3.08288068, 3.0799487 , 3.07658915,\n",
       "         3.07315218, 3.06996874, 3.06732263, 3.06543421, 3.06445255]],\n",
       "\n",
       "       [[3.15092158, 3.14584533, 3.13702309, 3.12625353, 3.11513182,\n",
       "         3.10480978, 3.09602   , 3.08918811, 3.08454317, 3.08219807],\n",
       "        [3.14584533, 3.1411978 , 3.13305254, 3.1230165 , 3.11256301,\n",
       "         3.10279065, 3.09442092, 3.08788739, 3.08343205, 3.08117875],\n",
       "        [3.13702309, 3.13305254, 3.12600658, 3.11719633, 3.10788815,\n",
       "         3.0990777 , 3.09145507, 3.0854586 , 3.08134738, 3.0792615 ],\n",
       "        [3.12625353, 3.1230165 , 3.11719633, 3.10979816, 3.10185062,\n",
       "         3.09421381, 3.08752269, 3.08220701, 3.07853706, 3.07666732],\n",
       "        [3.11513182, 3.11256301, 3.10788815, 3.10185062, 3.09525515,\n",
       "         3.08881743, 3.08310037, 3.07850962, 3.07531565, 3.07368087],\n",
       "        [3.10480978, 3.10279065, 3.0990777 , 3.09421381, 3.08881743,\n",
       "         3.0834709 , 3.07866013, 3.07475585, 3.07201836, 3.07061063],\n",
       "        [3.09602   , 3.09442092, 3.09145507, 3.08752269, 3.08310037,\n",
       "         3.07866013, 3.07461679, 3.07130297, 3.06896261, 3.06775376],\n",
       "        [3.08918811, 3.08788739, 3.0854586 , 3.08220701, 3.07850962,\n",
       "         3.07475585, 3.07130297, 3.06844927, 3.06642127, 3.06536977],\n",
       "        [3.08454317, 3.08343205, 3.08134738, 3.07853706, 3.07531565,\n",
       "         3.07201836, 3.06896261, 3.06642127, 3.06460681, 3.06366331],\n",
       "        [3.08219807, 3.08117875, 3.0792615 , 3.07666732, 3.07368087,\n",
       "         3.07061063, 3.06775376, 3.06536977, 3.06366331, 3.06277459]],\n",
       "\n",
       "       [[3.13044383, 3.12709483, 3.12107626, 3.11342275, 3.10518969,\n",
       "         3.09726307, 3.09030346, 3.08476407, 3.08093412, 3.07898111],\n",
       "        [3.12709483, 3.12395536, 3.11828961, 3.11104782, 3.1032181 ,\n",
       "         3.09564572, 3.08897222, 3.08364516, 3.07995448, 3.0780702 ],\n",
       "        [3.12107626, 3.11828961, 3.11322676, 3.10670027, 3.09958222,\n",
       "         3.09264321, 3.08648678, 3.08154655, 3.07811101, 3.07635307],\n",
       "        [3.11342275, 3.11104782, 3.10670027, 3.10103959, 3.09480021,\n",
       "         3.08865713, 3.08316004, 3.07871871, 3.0756149 , 3.07402198],\n",
       "        [3.10518969, 3.1032181 , 3.09958222, 3.09480021, 3.08947099,\n",
       "         3.08416807, 3.07937824, 3.07547892, 3.07273877, 3.07132776],\n",
       "        [3.09726307, 3.09564572, 3.09264321, 3.08865713, 3.08416807,\n",
       "         3.0796547 , 3.07553996, 3.0721645 , 3.06977905, 3.06854645],\n",
       "        [3.09030346, 3.08897222, 3.08648678, 3.08316004, 3.07937824,\n",
       "         3.07553996, 3.07201046, 3.06909428, 3.06702237, 3.06594826],\n",
       "        [3.08476407, 3.08364516, 3.08154655, 3.07871871, 3.07547892,\n",
       "         3.0721645 , 3.06909428, 3.06654187, 3.06471999, 3.0637728 ],\n",
       "        [3.08093412, 3.07995448, 3.07811101, 3.0756149 , 3.07273877,\n",
       "         3.06977905, 3.06702237, 3.06471999, 3.06307085, 3.06221161],\n",
       "        [3.07898111, 3.0780702 , 3.07635307, 3.07402198, 3.07132776,\n",
       "         3.06854645, 3.06594826, 3.0637728 , 3.06221161, 3.06139723]],\n",
       "\n",
       "       [[3.11883722, 3.11632405, 3.1117171 , 3.10570618, 3.09906494,\n",
       "         3.0925111 , 3.08663486, 3.08188003, 3.07855368, 3.07684555],\n",
       "        [3.11632405, 3.11393374, 3.10954258, 3.10379702, 3.09742997,\n",
       "         3.09112904, 3.08546582, 3.08087442, 3.07765788, 3.07600472],\n",
       "        [3.1117171 , 3.10954258, 3.1055333 , 3.10026159, 3.09438864,\n",
       "         3.08854716, 3.08327355, 3.07898265, 3.07596874, 3.07441727],\n",
       "        [3.10570618, 3.10379702, 3.10026159, 3.09558479, 3.09033968,\n",
       "         3.08508859, 3.0803204 , 3.07642227, 3.07367466, 3.07225725],\n",
       "        [3.09906494, 3.09742997, 3.09438864, 3.09033968, 3.0857658 ,\n",
       "         3.08115372, 3.07693845, 3.07347373, 3.07102181, 3.06975383],\n",
       "        [3.0925111 , 3.09112904, 3.08854716, 3.08508859, 3.08115372,\n",
       "         3.07715726, 3.07348035, 3.07044131, 3.06828165, 3.06716194],\n",
       "        [3.08663486, 3.08546582, 3.08327355, 3.0803204 , 3.07693845,\n",
       "         3.07348035, 3.07027879, 3.06761855, 3.06572052, 3.064734  ],\n",
       "        [3.08188003, 3.08087442, 3.07898265, 3.07642227, 3.07347373,\n",
       "         3.07044131, 3.06761855, 3.06526219, 3.06357506, 3.06269624],\n",
       "        [3.07855368, 3.07765788, 3.07596874, 3.07367466, 3.07102181,\n",
       "         3.06828165, 3.06572052, 3.06357506, 3.06203483, 3.06123121],\n",
       "        [3.07684555, 3.07600472, 3.07441727, 3.07225725, 3.06975383,\n",
       "         3.06716194, 3.064734  , 3.06269624, 3.06123121, 3.06046613]],\n",
       "\n",
       "       [[3.11442789, 3.11220591, 3.10810031, 3.10268664, 3.09663788,\n",
       "         3.09060581, 3.08514865, 3.08070152, 3.07757463, 3.07596405],\n",
       "        [3.11220591, 3.11007994, 3.10614622, 3.10094909, 3.09512977,\n",
       "         3.08931429, 3.08404319, 3.07974104, 3.07671265, 3.07515171],\n",
       "        [3.10810031, 3.10614622, 3.10252156, 3.0977161 , 3.09231431,\n",
       "         3.08689523, 3.08196632, 3.07793189, 3.07508588, 3.07361704],\n",
       "        [3.10268664, 3.10094909, 3.0977161 , 3.09341086, 3.08854686,\n",
       "         3.0836425 , 3.07916108, 3.07547877, 3.07287368, 3.07152679],\n",
       "        [3.09663788, 3.09512977, 3.09231431, 3.08854686, 3.08426645,\n",
       "         3.07992579, 3.07593848, 3.07264758, 3.07031161, 3.06910136],\n",
       "        [3.09060581, 3.08931429, 3.08689523, 3.0836425 , 3.07992579,\n",
       "         3.07613459, 3.07263289, 3.06972931, 3.067661  , 3.06658709],\n",
       "        [3.08514865, 3.08404319, 3.08196632, 3.07916108, 3.07593848,\n",
       "         3.07263289, 3.06956363, 3.06700715, 3.06517986, 3.06422906],\n",
       "        [3.08070152, 3.07974104, 3.07793189, 3.07547877, 3.07264758,\n",
       "         3.06972931, 3.06700715, 3.06473078, 3.06309875, 3.06224795],\n",
       "        [3.07757463, 3.07671265, 3.07508588, 3.07287368, 3.07031161,\n",
       "         3.067661  , 3.06517986, 3.06309875, 3.06160328, 3.06082253],\n",
       "        [3.07596405, 3.07515171, 3.07361704, 3.07152679, 3.06910136,\n",
       "         3.06658709, 3.06422906, 3.06224795, 3.06082253, 3.06007777]]])"
      ]
     },
     "metadata": {},
     "execution_count": 50
    }
   ],
   "metadata": {}
  },
  {
   "cell_type": "markdown",
   "source": [
    "Since it shows the current concentrations after the simulation, we can use this to see how node-by-location interacts with node-by-index. Documentation says we define the left-lower-back corner, a step size for x, y, and z and then a right-top-front corner. So my initial guess is the first 2D vector is the bottom \"layer\" of our cube and then we layer up. Let's confine ourselves to the first layer at first for simplicity since it has the only value that is greater than 3 in our ECS."
   ],
   "metadata": {}
  },
  {
   "cell_type": "code",
   "execution_count": 55,
   "source": [
    "k[ecs].states3d[0]"
   ],
   "outputs": [
    {
     "output_type": "execute_result",
     "data": {
      "text/plain": [
       "array([[4.63790476, 3.76821686, 3.44748277, 3.29990678, 3.21962082,\n",
       "        3.17104419, 3.14003333, 3.12014859, 3.10819196, 3.1025548 ],\n",
       "       [3.76821686, 3.53478833, 3.37120845, 3.26967093, 3.20547982,\n",
       "        3.16350835, 3.13557157, 3.11723442, 3.10606241, 3.10075943],\n",
       "       [3.44748277, 3.37120845, 3.2922834 , 3.22984662, 3.18395094,\n",
       "        3.15100963, 3.12778143, 3.11198243, 3.10214935, 3.09742852],\n",
       "       [3.29990678, 3.26967093, 3.22984662, 3.19226747, 3.16098316,\n",
       "        3.13651115, 3.11821521, 3.10527793, 3.09702603, 3.09301038],\n",
       "       [3.21962082, 3.20547982, 3.18395094, 3.16098316, 3.13993247,\n",
       "        3.12222889, 3.1082751 , 3.0980352 , 3.09134237, 3.08804005],\n",
       "       [3.17104419, 3.16350835, 3.15100963, 3.13651115, 3.12222889,\n",
       "        3.10949571, 3.09899691, 3.09103327, 3.08570981, 3.08304873],\n",
       "       [3.14003333, 3.13557157, 3.12778143, 3.11821521, 3.1082751 ,\n",
       "        3.09899691, 3.0910575 , 3.08486283, 3.08063954, 3.07850381],\n",
       "       [3.12014859, 3.11723442, 3.11198243, 3.10527793, 3.0980352 ,\n",
       "        3.09103327, 3.08486283, 3.0799366 , 3.07652289, 3.07477973],\n",
       "       [3.10819196, 3.10606241, 3.10214935, 3.09702603, 3.09134237,\n",
       "        3.08570981, 3.08063954, 3.07652289, 3.07363551, 3.07215038],\n",
       "       [3.1025548 , 3.10075943, 3.09742852, 3.09301038, 3.08804005,\n",
       "        3.08304873, 3.07850381, 3.07477973, 3.07215038, 3.0707926 ]])"
      ]
     },
     "metadata": {},
     "execution_count": 55
    }
   ],
   "metadata": {}
  },
  {
   "cell_type": "code",
   "execution_count": 26,
   "source": [
    "print(k[ecs].node_by_location(0,0,0)._ref_value)\r\n",
    "print(k[ecs].node_by_location(0,10,0)._ref_value)\r\n",
    "print(k[ecs].node_by_location(0,20,0)._ref_value)\r\n",
    "print(k[ecs].node_by_location(0,30,0)._ref_value)\r\n",
    "print(k[ecs].node_by_location(0,40,0)._ref_value)"
   ],
   "outputs": [
    {
     "output_type": "stream",
     "name": "stdout",
     "text": [
      "<pointer to hoc scalar 4.6379>\n",
      "<pointer to hoc scalar 3.76822>\n",
      "<pointer to hoc scalar 3.44748>\n",
      "<pointer to hoc scalar 3.29991>\n",
      "<pointer to hoc scalar 3.21962>\n"
     ]
    }
   ],
   "metadata": {}
  },
  {
   "cell_type": "markdown",
   "source": [
    "We can see that as we step from voxel to voxel in the y direction that we are traversing through the first 1D array in our matrix above. "
   ],
   "metadata": {}
  },
  {
   "cell_type": "code",
   "execution_count": 28,
   "source": [
    "print(k[ecs].node_by_location(0,0,0)._ref_value)\r\n",
    "print(k[ecs].node_by_location(10,0,0)._ref_value)\r\n",
    "print(k[ecs].node_by_location(20,0,0)._ref_value)\r\n",
    "print(k[ecs].node_by_location(30,0,0)._ref_value)\r\n",
    "print(k[ecs].node_by_location(40,0,0)._ref_value)"
   ],
   "outputs": [
    {
     "output_type": "stream",
     "name": "stdout",
     "text": [
      "<pointer to hoc scalar 4.6379>\n",
      "<pointer to hoc scalar 3.80846>\n",
      "<pointer to hoc scalar 3.47949>\n",
      "<pointer to hoc scalar 3.32232>\n",
      "<pointer to hoc scalar 3.23584>\n"
     ]
    }
   ],
   "metadata": {}
  },
  {
   "cell_type": "markdown",
   "source": [
    "As we step through the voxels in the x direction, we can see that we traverse the first elements of each of the individual 1D arrays. So it appears that each of the 2D arrays inside states 3D is an xy slice and each 1D array inside a slice is at a constant x value and increasing values of y. So what would nodes (10,10,10) and (10,10,20) be in terms of indices then? "
   ],
   "metadata": {}
  },
  {
   "cell_type": "code",
   "execution_count": 31,
   "source": [
    "print(k[ecs].node_by_location(0,0,0)._ref_value, k[ecs].node_by_ijk(0,0,0)._ref_value, sep = \"=\")\r\n",
    "print(k[ecs].node_by_location(10,0,0)._ref_value, k[ecs].node_by_ijk(1,0,0)._ref_value, sep = \"=\")\r\n",
    "print(k[ecs].node_by_location(20,0,0)._ref_value, k[ecs].node_by_ijk(2,0,0)._ref_value, sep = \"=\")\r\n",
    "print(k[ecs].node_by_location(30,0,0)._ref_value, k[ecs].node_by_ijk(3,0,0)._ref_value, sep = \"=\")\r\n",
    "print(k[ecs].node_by_location(40,0,0)._ref_value, k[ecs].node_by_ijk(4,0,0)._ref_value, sep = \"=\")\r\n",
    "print(k[ecs].node_by_location(0,10,0)._ref_value, k[ecs].node_by_ijk(0,1,0)._ref_value, sep = \"=\")\r\n",
    "print(k[ecs].node_by_location(0,20,0)._ref_value, k[ecs].node_by_ijk(0,2,0)._ref_value, sep = \"=\")\r\n",
    "print(k[ecs].node_by_location(0,30,0)._ref_value, k[ecs].node_by_ijk(0,3,0)._ref_value, sep = \"=\")\r\n",
    "print(k[ecs].node_by_location(0,40,0)._ref_value, k[ecs].node_by_ijk(0,4,0)._ref_value, sep = \"=\")"
   ],
   "outputs": [
    {
     "output_type": "stream",
     "name": "stdout",
     "text": [
      "<pointer to hoc scalar 4.6379>=<pointer to hoc scalar 4.6379>\n",
      "<pointer to hoc scalar 3.80846>=<pointer to hoc scalar 3.80846>\n",
      "<pointer to hoc scalar 3.47949>=<pointer to hoc scalar 3.47949>\n",
      "<pointer to hoc scalar 3.32232>=<pointer to hoc scalar 3.32232>\n",
      "<pointer to hoc scalar 3.23584>=<pointer to hoc scalar 3.23584>\n",
      "<pointer to hoc scalar 3.76822>=<pointer to hoc scalar 3.76822>\n",
      "<pointer to hoc scalar 3.44748>=<pointer to hoc scalar 3.44748>\n",
      "<pointer to hoc scalar 3.29991>=<pointer to hoc scalar 3.29991>\n",
      "<pointer to hoc scalar 3.21962>=<pointer to hoc scalar 3.21962>\n"
     ]
    }
   ],
   "metadata": {}
  },
  {
   "cell_type": "markdown",
   "source": [
    "So say we have a node that is at a location (x,y,z) and we want to find its indices, we would simply do (x/dx, y/dy, z/dz). We can see if we do this, we get the same plot as above."
   ],
   "metadata": {}
  },
  {
   "cell_type": "code",
   "execution_count": 33,
   "source": [
    "kecs_vec2 = h.Vector()\r\n",
    "kecs_vec2.record(k[ecs].node_by_ijk(1,1,1)._ref_value)\r\n",
    "\r\n",
    "kecs_vec3 = h.Vector()\r\n",
    "kecs_vec3.record(k[ecs].node_by_ijk(1,1,2)._ref_value)\r\n",
    "\r\n",
    "# record the time\r\n",
    "t_vec = h.Vector()\r\n",
    "t_vec.record(h._ref_t)\r\n",
    "\r\n",
    "# run the simulation\r\n",
    "h.finitialize()\r\n",
    "h.continuerun(2000 * ms)\r\n",
    "\r\n",
    "# plot the concentations\r\n",
    "plt.plot(t_vec, kecs_vec2, label='near the cell')\r\n",
    "plt.plot(t_vec, kecs_vec3, label='far from the cell')\r\n",
    "plt.legend()"
   ],
   "outputs": [
    {
     "output_type": "execute_result",
     "data": {
      "text/plain": [
       "<matplotlib.legend.Legend at 0x21c15849d60>"
      ]
     },
     "metadata": {},
     "execution_count": 33
    },
    {
     "output_type": "display_data",
     "data": {
      "text/plain": [
       "<Figure size 432x288 with 1 Axes>"
      ],
      "image/png": "[encoded data removed]"
     },
     "metadata": {
      "needs_background": "light"
     }
    }
   ],
   "metadata": {}
  },
  {
   "cell_type": "markdown",
   "source": [
    "# Create sink for hormones that matches BAD model\r\n",
    "\r\n",
    "In the BAD model, the hormones are assumed to accumulate and clear from a single, well-mixed space. In NEURON Rxd, reactions conserve mass so we must use `rxd.Rate`. It seems that we can use three `rxd.Rate` statement to describe the production and degredation of each hormone in the space. Let's start with a new cell, a new ecs, and this time we can edit the mechanism `one` to secrete hormones into the space. First we will start with a NEURON `Region` and then will try with ECS. \r\n",
    "\r\n",
    "In order to get the Rxd simulation to work I added the following lines to `one.mod`\r\n",
    "\r\n",
    "\t: Temporary Rxd variables\r\n",
    "\tUSEION I WRITE iI VALENCE 0\r\n",
    "\tUSEION G WRITE iG VALENCE 0\r\n",
    "\tUSEION S WRITE iS VALENCE 0\r\n",
    "\t\r\n",
    "\tRANGE iI, iG, iS\r\n",
    "\r\n",
    "I then commented out the equations for I', S', and G'. I made iI, iG, and iS RANGE variables. You will see below that we are having wild oscillations as we did before when trying to get one.mod to work. This time however, it is not caused by errors in initialized values. Looking at the lists that hold the concentrations, what happens is the concentrations decrease quickly (besides sst) and then once they become extremely small the oscillations come in. I set the tolerance for Species to be 1e-10 at first, then 1e-15, and then 1e-20. Decreasing the tolerance increased the amount of timesteps that passed before the wild oscillations started but it did not prevent them. The next thing I want to look into is the values of JIS, JGS, and JSS because I know they are extremely small (on the order of 1e-14)."
   ],
   "metadata": {}
  },
  {
   "cell_type": "code",
   "execution_count": null,
   "source": [
    "! nrnivmodl\r\n",
    "load_mechanisms(\"C:/Users/rober/OneDrive - University of Florida/Documents/Research/Pancreatic_islet_model\")"
   ],
   "outputs": [
    {
     "output_type": "error",
     "ename": "Error",
     "evalue": "Session cannot generate requests",
     "traceback": [
      "Error: Session cannot generate requests",
      "at w.executeCodeCell (c:\\Users\\rober\\.vscode\\extensions\\ms-toolsai.jupyter-2021.8.1054968649\\out\\client\\extension.js:90:320068)",
      "at w.execute (c:\\Users\\rober\\.vscode\\extensions\\ms-toolsai.jupyter-2021.8.1054968649\\out\\client\\extension.js:90:319389)",
      "at w.start (c:\\Users\\rober\\.vscode\\extensions\\ms-toolsai.jupyter-2021.8.1054968649\\out\\client\\extension.js:90:315205)",
      "at runMicrotasks (<anonymous>)",
      "at processTicksAndRejections (internal/process/task_queues.js:93:5)",
      "at async t.CellExecutionQueue.executeQueuedCells (c:\\Users\\rober\\.vscode\\extensions\\ms-toolsai.jupyter-2021.8.1054968649\\out\\client\\extension.js:90:329732)",
      "at async t.CellExecutionQueue.start (c:\\Users\\rober\\.vscode\\extensions\\ms-toolsai.jupyter-2021.8.1054968649\\out\\client\\extension.js:90:329272)"
     ]
    }
   ],
   "metadata": {}
  },
  {
   "cell_type": "code",
   "execution_count": 4,
   "source": [
    "beta4 = h.Section(name = \"beta4\")"
   ],
   "outputs": [],
   "metadata": {}
  },
  {
   "cell_type": "code",
   "execution_count": 5,
   "source": [
    "beta4.insert(\"one\")"
   ],
   "outputs": [
    {
     "output_type": "execute_result",
     "data": {
      "text/plain": [
       "beta4"
      ]
     },
     "metadata": {},
     "execution_count": 5
    }
   ],
   "metadata": {}
  },
  {
   "cell_type": "code",
   "execution_count": 4,
   "source": [
    "# Create region\r\n",
    "sink = rxd.Region(beta4, nrn_region = 'o', geometry = None)\r\n",
    "\r\n",
    "# Create Species\r\n",
    "G = rxd.Species(regions = sink, d = 0, name = \"G\", initial = 31.73727470720019, charge = 0, atolscale=1e-11)\r\n",
    "I = rxd.Species(regions = sink, d = 0, name = \"I\", initial = 48.04298494148047, charge = 0, atolscale=1e-10)\r\n",
    "S = rxd.Species(regions = sink, d = 0, name = \"S\", initial = 18.71318922819339, charge = 0, atolscale=1e-15)\r\n",
    "\r\n",
    "# Set volume of sink and clearance rates of hormones from the sink\r\n",
    "# These variables aren't known emperically and were optimized for the focus of the BAD model paper\r\n",
    "sink_v = 1e-13\r\n",
    "I_sink_clear = 2000\r\n",
    "G_sink_clear = 150\r\n",
    "S_sink_clear = 0.003\r\n",
    "\r\n",
    "# Set Reactions\r\n",
    "I_secretion_and_degredation = rxd.Rate(I, beta4(0.5).one.JIS/sink_v - I_sink_clear * I)\r\n",
    "G_secretion_and_degredation = rxd.Rate(G, beta4(0.5).one.JGS/sink_v - G_sink_clear * G)\r\n",
    "S_secretion_and_degredation = rxd.Rate(S, beta4(0.5).one.JSS/sink_v - S_sink_clear * S)"
   ],
   "outputs": [],
   "metadata": {}
  },
  {
   "cell_type": "markdown",
   "source": [
    "Below the initial concentrations are printed to confirm they are set properly."
   ],
   "metadata": {}
  },
  {
   "cell_type": "code",
   "execution_count": 5,
   "source": [
    "print(I.nodes[0].concentration, G.nodes[0].concentration, S.nodes[0].concentration, sep = \"\\n\")"
   ],
   "outputs": [
    {
     "output_type": "stream",
     "name": "stdout",
     "text": [
      "48.04298494148047\n",
      "31.73727470720019\n",
      "18.71318922819339\n"
     ]
    }
   ],
   "metadata": {}
  },
  {
   "cell_type": "code",
   "execution_count": 9,
   "source": [
    "beta4(0.5).one._ref_JIS"
   ],
   "outputs": [
    {
     "output_type": "execute_result",
     "data": {
      "text/plain": [
       "<pointer to hoc scalar 0>"
      ]
     },
     "metadata": {},
     "execution_count": 9
    }
   ],
   "metadata": {}
  },
  {
   "cell_type": "code",
   "execution_count": 6,
   "source": [
    "h.CVode().active(False)\r\n",
    "simulation_time = 2000\r\n",
    "dt = 0.025\r\n",
    "time_steps = int(simulation_time/dt)\r\n",
    "I_conc = I.nodes.concentration\r\n",
    "G_conc = G.nodes.concentration\r\n",
    "S_conc = S.nodes.concentration\r\n",
    "t_vec = h.Vector()\r\n",
    "t_vec.record(h._ref_t)\r\n",
    "JIS_vec = h.Vector()\r\n",
    "JIS_vec.record(beta4(0.5).one._ref_JIS)\r\n",
    "JGS_vec = h.Vector()\r\n",
    "JGS_vec.record(beta4(0.5).one._ref_JGS)\r\n",
    "JSS_vec = h.Vector()\r\n",
    "JSS_vec.record(beta4(0.5).one._ref_JSS)\r\n",
    "\r\n",
    "h.finitialize()\r\n",
    "\r\n",
    "for time_step in range(time_steps):\r\n",
    "    h.fadvance()\r\n",
    "    I_conc.append(I.nodes.concentration[0])\r\n",
    "    G_conc.append(G.nodes.concentration[0])\r\n",
    "    S_conc.append(S.nodes.concentration[0])\r\n",
    "\r\n",
    "\r\n",
    "plt.plot(t_vec, I_conc, label = \"Insulin\")\r\n",
    "plt.plot(t_vec, G_conc, label = \"Glucagon\")\r\n",
    "plt.plot(t_vec, S_conc, label = \"Somatostatin\")\r\n",
    "plt.legend()"
   ],
   "outputs": [
    {
     "output_type": "execute_result",
     "data": {
      "text/plain": [
       "<matplotlib.legend.Legend at 0x214ff0b1970>"
      ]
     },
     "metadata": {},
     "execution_count": 6
    },
    {
     "output_type": "display_data",
     "data": {
      "text/plain": [
       "<Figure size 432x288 with 1 Axes>"
      ],
      "image/png": "[encoded data removed]"
     },
     "metadata": {
      "needs_background": "light"
     }
    }
   ],
   "metadata": {}
  },
  {
   "cell_type": "code",
   "execution_count": 7,
   "source": [
    "print(max(I_conc), min(I_conc))\r\n",
    "print(max(G_conc), min(G_conc))\r\n",
    "print(max(S_conc), min(S_conc))"
   ],
   "outputs": [
    {
     "output_type": "stream",
     "name": "stdout",
     "text": [
      "48.04298494148047 -1.474723325814308e-19\n",
      "31.73727470720019 -1.1445248744736164e-19\n",
      "18.71318922819339 0.04639579588971742\n"
     ]
    }
   ],
   "metadata": {}
  },
  {
   "cell_type": "code",
   "execution_count": 13,
   "source": [
    "plt.plot(t_vec, JIS_vec, label = \"Insulin\")\r\n",
    "plt.plot(t_vec, JGS_vec, label = \"Glucagon\")\r\n",
    "plt.plot(t_vec, JSS_vec, label = \"Somatostatin\")\r\n",
    "plt.legend()"
   ],
   "outputs": [
    {
     "output_type": "execute_result",
     "data": {
      "text/plain": [
       "<matplotlib.legend.Legend at 0x23a2c0057c0>"
      ]
     },
     "metadata": {},
     "execution_count": 13
    },
    {
     "output_type": "display_data",
     "data": {
      "text/plain": [
       "<Figure size 432x288 with 1 Axes>"
      ],
      "image/png": "[encoded data removed]"
     },
     "metadata": {
      "needs_background": "light"
     }
    }
   ],
   "metadata": {}
  },
  {
   "cell_type": "code",
   "execution_count": 17,
   "source": [
    "for i in range(10):\r\n",
    "    print(JSS_vec[i])"
   ],
   "outputs": [
    {
     "output_type": "stream",
     "name": "stdout",
     "text": [
      "4.412501110619871e-14\n",
      "4.412501110619871e-14\n",
      "4.401979274237234e-14\n",
      "4.391293919029411e-14\n",
      "4.380451369471204e-14\n",
      "4.3694576372575665e-14\n",
      "4.35831843974379e-14\n",
      "4.34703921727621e-14\n",
      "4.335625149478399e-14\n",
      "4.32408117055455e-14\n"
     ]
    }
   ],
   "metadata": {}
  },
  {
   "cell_type": "markdown",
   "source": [
    "# Try sample k mod file with 0 valence rather than 1"
   ],
   "metadata": {}
  },
  {
   "cell_type": "code",
   "execution_count": null,
   "source": [
    "beta_0 = h.Section(name = \"beta_0\")"
   ],
   "outputs": [
    {
     "output_type": "error",
     "ename": "Error",
     "evalue": "Session cannot generate requests",
     "traceback": [
      "Error: Session cannot generate requests",
      "at w.executeCodeCell (c:\\Users\\rober\\.vscode\\extensions\\ms-toolsai.jupyter-2021.8.1054968649\\out\\client\\extension.js:90:320068)",
      "at w.execute (c:\\Users\\rober\\.vscode\\extensions\\ms-toolsai.jupyter-2021.8.1054968649\\out\\client\\extension.js:90:319389)",
      "at w.start (c:\\Users\\rober\\.vscode\\extensions\\ms-toolsai.jupyter-2021.8.1054968649\\out\\client\\extension.js:90:315205)",
      "at runMicrotasks (<anonymous>)",
      "at processTicksAndRejections (internal/process/task_queues.js:93:5)",
      "at async t.CellExecutionQueue.executeQueuedCells (c:\\Users\\rober\\.vscode\\extensions\\ms-toolsai.jupyter-2021.8.1054968649\\out\\client\\extension.js:90:329732)",
      "at async t.CellExecutionQueue.start (c:\\Users\\rober\\.vscode\\extensions\\ms-toolsai.jupyter-2021.8.1054968649\\out\\client\\extension.js:90:329272)"
     ]
    }
   ],
   "metadata": {}
  },
  {
   "cell_type": "code",
   "execution_count": null,
   "source": [],
   "outputs": [],
   "metadata": {}
  }
 ],
 "metadata": {
  "kernelspec": {
   "name": "python3",
   "display_name": "Python 3.9.5 64-bit ('base': conda)"
  },
  "language_info": {
   "codemirror_mode": {
    "name": "ipython",
    "version": 3
   },
   "file_extension": ".py",
   "mimetype": "text/x-python",
   "name": "python",
   "nbconvert_exporter": "python",
   "pygments_lexer": "ipython3",
   "version": "3.9.5"
  },
  "interpreter": {
   "hash": "5f5fe100f7336112f4cdff2f678a7ddc13146038f73bb3d2f0da09bf7b63b145"
  }
 },
 "nbformat": 4,
 "nbformat_minor": 5
}