{
 "cells": [
  {
   "cell_type": "code",
   "execution_count": 1,
   "metadata": {},
   "outputs": [
    {
     "ename": "ModuleNotFoundError",
     "evalue": "No module named 'neuron'",
     "output_type": "error",
     "traceback": [
      "\u001b[0;31m---------------------------------------------------------------------------\u001b[0m",
      "\u001b[0;31mModuleNotFoundError\u001b[0m                       Traceback (most recent call last)",
      "\u001b[0;32m/scratch/local/12178631/ipykernel_62754/2704941602.py\u001b[0m in \u001b[0;36m<module>\u001b[0;34m\u001b[0m\n\u001b[0;32m----> 1\u001b[0;31m \u001b[0;32mfrom\u001b[0m \u001b[0mneuron\u001b[0m \u001b[0;32mimport\u001b[0m \u001b[0mh\u001b[0m\u001b[0;34m,\u001b[0m \u001b[0munits\u001b[0m\u001b[0;34m,\u001b[0m \u001b[0mrxd\u001b[0m\u001b[0;34m,\u001b[0m \u001b[0mload_mechanisms\u001b[0m\u001b[0;34m\u001b[0m\u001b[0;34m\u001b[0m\u001b[0m\n\u001b[0m\u001b[1;32m      2\u001b[0m \u001b[0;32mfrom\u001b[0m \u001b[0mneuron\u001b[0m\u001b[0;34m.\u001b[0m\u001b[0munits\u001b[0m \u001b[0;32mimport\u001b[0m \u001b[0mmV\u001b[0m\u001b[0;34m,\u001b[0m \u001b[0mms\u001b[0m\u001b[0;34m,\u001b[0m \u001b[0mum\u001b[0m\u001b[0;34m,\u001b[0m \u001b[0mmM\u001b[0m\u001b[0;34m\u001b[0m\u001b[0;34m\u001b[0m\u001b[0m\n\u001b[1;32m      3\u001b[0m \u001b[0;32mimport\u001b[0m \u001b[0mmath\u001b[0m\u001b[0;34m\u001b[0m\u001b[0;34m\u001b[0m\u001b[0m\n\u001b[1;32m      4\u001b[0m \u001b[0;32mfrom\u001b[0m \u001b[0mmatplotlib\u001b[0m \u001b[0;32mimport\u001b[0m \u001b[0mpyplot\u001b[0m \u001b[0;32mas\u001b[0m \u001b[0mplt\u001b[0m\u001b[0;34m\u001b[0m\u001b[0;34m\u001b[0m\u001b[0m\n\u001b[1;32m      5\u001b[0m \u001b[0mh\u001b[0m\u001b[0;34m.\u001b[0m\u001b[0mload_file\u001b[0m\u001b[0;34m(\u001b[0m\u001b[0;34m\"stdrun.hoc\"\u001b[0m\u001b[0;34m)\u001b[0m\u001b[0;34m\u001b[0m\u001b[0;34m\u001b[0m\u001b[0m\n",
      "\u001b[0;31mModuleNotFoundError\u001b[0m: No module named 'neuron'"
     ]
    }
   ],
   "source": [
    "from neuron import h, units, rxd, load_mechanisms\n",
    "from neuron.units import mV, ms, um, mM\n",
    "import math\n",
    "from matplotlib import pyplot as plt\n",
    "h.load_file(\"stdrun.hoc\")\n",
    "%matplotlib inline\n",
    "from itertools import product\n",
    "import plotly.express as px\n",
    "import pandas as pd"
   ]
  },
  {
   "cell_type": "code",
   "execution_count": 2,
   "metadata": {},
   "outputs": [
    {
     "ename": "NameError",
     "evalue": "name 'h' is not defined",
     "output_type": "error",
     "traceback": [
      "\u001b[0;31m---------------------------------------------------------------------------\u001b[0m",
      "\u001b[0;31mNameError\u001b[0m                                 Traceback (most recent call last)",
      "\u001b[0;32m/scratch/local/12178631/ipykernel_56368/1401265013.py\u001b[0m in \u001b[0;36m<module>\u001b[0;34m\u001b[0m\n\u001b[0;32m----> 1\u001b[0;31m \u001b[0mmy_cell\u001b[0m \u001b[0;34m=\u001b[0m \u001b[0mh\u001b[0m\u001b[0;34m.\u001b[0m\u001b[0mSection\u001b[0m\u001b[0;34m(\u001b[0m\u001b[0mname\u001b[0m \u001b[0;34m=\u001b[0m \u001b[0;34m\"my_cell\"\u001b[0m\u001b[0;34m)\u001b[0m\u001b[0;34m\u001b[0m\u001b[0;34m\u001b[0m\u001b[0m\n\u001b[0m",
      "\u001b[0;31mNameError\u001b[0m: name 'h' is not defined"
     ]
    }
   ],
   "source": [
    "my_cell = h.Section(name = \"my_cell\")"
   ]
  },
  {
   "cell_type": "markdown",
   "metadata": {},
   "source": [
    "# Where\n",
    "\n",
    "For our model we have a few regions where reactions will occur and species will live:\n",
    "\n",
    "* Cytosol - `cyt`\n",
    "* ER - `er`\n",
    "* Mitochondria - `mito`\n",
    "* Microdomain - `mdm`\n",
    "* Extracellular Space - `ecs`\n",
    "\n",
    "## Cytosol\n",
    "\n",
    "Here we use a `rxd.Region` to define the cytosol. We use `nrn_region=\"i\"` to specify that this is just on the inside of the membrane. Since we will have multiple regions inside our section, we will use `geometry=rxd.FractionalVolume` to specify what portion of the volume inside the cell is cytosol and `surface_fraction=1` because we will assume all points of the plasma membrane are in contact with the cytosol. The first argument for `geometry=rxd.FractionalVolume` specifies the portion of the cell volume that the region takes up. From a quick google search, the cytosol makes up about 70% of the volume in the cell. This should be investigated further."
   ]
  },
  {
   "cell_type": "code",
   "execution_count": null,
   "metadata": {},
   "outputs": [],
   "source": []
  },
  {
   "cell_type": "code",
   "execution_count": 3,
   "metadata": {},
   "outputs": [
    {
     "ename": "SyntaxError",
     "evalue": "invalid syntax (2038773769.py, line 3)",
     "output_type": "error",
     "traceback": [
      "\u001b[0;36m  File \u001b[0;32m\"/scratch/local/12178631/ipykernel_56368/2038773769.py\"\u001b[0;36m, line \u001b[0;32m3\u001b[0m\n\u001b[0;31m    geometry=rxd.FractionalVolume.7(0, surface_fraction=1),\u001b[0m\n\u001b[0m                                 ^\u001b[0m\n\u001b[0;31mSyntaxError\u001b[0m\u001b[0;31m:\u001b[0m invalid syntax\n"
     ]
    }
   ],
   "source": [
    "cyt = rxd.Region(my_cell,\n",
    "                 nrn_region=\"i\",\n",
    "                 geometry=rxd.FractionalVolume.7(0, surface_fraction=1),\n",
    "                 name=\"cyt\")"
   ]
  },
  {
   "cell_type": "markdown",
   "metadata": {},
   "source": [
    "## Endoplasmic Reticulum\n",
    "\n",
    "`surface_fraction=0` will be used here because we will assume that the er doesn't contact the plasma membrane. A quick google search showed that slightly more than 10% of cell volume can be made up by ER's."
   ]
  },
  {
   "cell_type": "code",
   "execution_count": 6,
   "metadata": {},
   "outputs": [],
   "source": [
    "er = rxd.Region(my_cell,\n",
    "                geometry=rxd.FractionalVolume(0.10, surface_fraction=0),\n",
    "                name=\"er\")"
   ]
  },
  {
   "cell_type": "markdown",
   "metadata": {},
   "source": [
    "## Mitochondria\n",
    "\n",
    "Quick google search (https://www.ncbi.nlm.nih.gov/books/NBK26894/#:~:text=For%20technical%20reasons%2C%20many%20of,fifth%20of%20the%20cell%20volume.) showed that mitochondria can take up to one-fifth of cell volume. Similarly to ER will will assume `surface_fraction=0`."
   ]
  },
  {
   "cell_type": "code",
   "execution_count": 7,
   "metadata": {},
   "outputs": [],
   "source": [
    "mito = rxd.Region(my_cell,\n",
    "                  geometry=rxd.FractionalVolume(0.20, surface_fraction=0),\n",
    "                  name=\"mito\")"
   ]
  },
  {
   "cell_type": "markdown",
   "metadata": {},
   "source": [
    "## Membranes separating cytosol from ER and mitochondria\n",
    "\n",
    "`rxd.MultiCompartmentReactions` crossing this membrane will be scaled by its surface area. Given that we are assuming that all chunks our cell have ER, mitochondria, and cytosol mixed together in the same way, it follows that the area of the membrane within a volume should be proportional to the size of that volume. We indicate this using the `rxd.DistributedBoundary` geometry. The argument inside the distributed boundary indicates the amount of organelle boundary per cubi"
   ]
  }
 ],
 "metadata": {
  "interpreter": {
   "hash": "0f3164d8129cab40951503f743a8d5326e866d31ef6101438dfa741d2ec07893"
  },
  "kernelspec": {
   "display_name": "Python 3.8.1 64-bit ('neuron': conda)",
   "language": "python",
   "name": "python381jvsc74a57bd0bcdbdd6dce783a2c862250fc009c4d46e93705d5f9a7e06c09bf6f7a85674eab"
  },
  "language_info": {
   "codemirror_mode": {
    "name": "ipython",
    "version": 3
   },
   "file_extension": ".py",
   "mimetype": "text/x-python",
   "name": "python",
   "nbconvert_exporter": "python",
   "pygments_lexer": "ipython3",
   "version": "3.8.1"
  }
 },
 "nbformat": 4,
 "nbformat_minor": 4
}
