{
 "cells": [
  {
   "cell_type": "code",
   "execution_count": 1,
   "source": [
    "from neuron import h, units, rxd, load_mechanisms\n",
    "from neuron.units import mV, ms, um, mM\n",
    "import matplotlib\n",
    "from matplotlib import pyplot as plt\n",
    "h.load_file(\"stdrun.hoc\")\n",
    "%matplotlib inline\n",
    "from itertools import product\n",
    "import plotly.express as px\n",
    "import pandas as pd\n",
    "import os"
   ],
   "outputs": [
    {
     "output_type": "stream",
     "name": "stderr",
     "text": [
      "Warning: no DISPLAY environment variable.\n",
      "--No graphics will be displayed.\n"
     ]
    }
   ],
   "metadata": {}
  },
  {
   "cell_type": "code",
   "execution_count": 2,
   "source": [
    "# This function assumes the ECS is a cube and each of the voxels are cubes\n",
    "# It calculates how many voxels span across on of the sides of the cube\n",
    "# The possible indicies for the voxels will the set containing all possible\n",
    "# combinations of the numbers from 0 to (length in voxels - 1)\n",
    "# This comes out as a iterable object of tuples, so we convert it and each\n",
    "# of its elements to lists.\n",
    "\n",
    "def create_index_list(species, ecs_name):\n",
    "    length_in_voxels = len(species[ecs_name].states3d[0][0])\n",
    "    coord_list = list(product(range(length_in_voxels), repeat = 3))\n",
    "    coord_list = [list(coord) for coord in coord_list]\n",
    "    return coord_list\n",
    "\n",
    "def create_rec_conc_vects(time_vect_name, coord_list, species, ecs_name):\n",
    "    vect_dict = {time_vect_name : h.Vector().record(h._ref_t)}\n",
    "    num_voxels = len(coord_list)\n",
    "    for i in range(num_voxels):\n",
    "        vect_dict[str(species) + str(coord_list[i])] = h.Vector()\n",
    "        vect_dict[str(species) + str(coord_list[i])].record(species[ecs_name].node_by_ijk(coord_list[i][0], coord_list[i][1], coord_list[i][2])._ref_value)\n",
    "    return vect_dict\n",
    "\n",
    "def voxel_conc_plots(time_vect_name, coord_list, vector_dictionary, species, image_directory):\n",
    "    os.mkdir(\"Plots/\" + image_directory)\n",
    "    num_voxels = len(coord_list)\n",
    "    for i in range(num_voxels):\n",
    "        plt.plot(vector_dictionary[time_vect_name], vector_dictionary[str(species) + str(coord_list[i])])\n",
    "        plt.title(str(species) + str(coord_list[i]))\n",
    "        plt.savefig(\"Plots/\" + image_directory + \"/\" + str(species) + str(coord_list[i]) + \".png\")\n",
    "        plt.close()\n",
    "\n",
    "def run_and_visualize_sim(species, ecs_name, time_vect_name, simulation_time, image_directory):\n",
    "    coord_list = create_index_list(species, ecs_name)\n",
    "    vector_dictionary = create_rec_conc_vects(time_vect_name, coord_list, species, ecs_name)\n",
    "    h.finitialize()\n",
    "    h.continuerun(simulation_time * ms)\n",
    "    voxel_conc_plots(time_vect_name, coord_list, vector_dictionary, species, image_directory)\n",
    "    print(min(vector_dictionary[str(species) + \"[1, 1, 1]\"]), max(vector_dictionary[str(species) + \"[1, 1, 1]\"])) "
   ],
   "outputs": [],
   "metadata": {}
  },
  {
   "cell_type": "code",
   "execution_count": 3,
   "source": [
    "my_cell = h.Section(name = \"my_cell\")\n",
    "my_cell.insert(\"one\")"
   ],
   "outputs": [
    {
     "output_type": "execute_result",
     "data": {
      "text/plain": [
       "my_cell"
      ]
     },
     "metadata": {},
     "execution_count": 3
    }
   ],
   "metadata": {}
  },
  {
   "cell_type": "code",
   "execution_count": 4,
   "source": [
    "# t_vec = h.Vector().record(h._ref_t)\n",
    "JIS = h.Vector()\n",
    "JIS.record(my_cell(0.5).one._ref_JIS)\n",
    "I = h.Vector()\n",
    "I.record(my_cell(0.5).one._ref_I)"
   ],
   "outputs": [
    {
     "output_type": "execute_result",
     "data": {
      "text/plain": [
       "Vector[1]"
      ]
     },
     "metadata": {},
     "execution_count": 4
    }
   ],
   "metadata": {}
  },
  {
   "cell_type": "code",
   "execution_count": 5,
   "source": [
    "# Create extracellular space that is a 30x30x30 cube made up of 10x10x10 voxels \n",
    "ecs = rxd.Extracellular(0,0,0,30,30,30, dx = (10, 10, 10))\n",
    "\n",
    "# Leave d = 0 so no diffusion meaning no insulin should flow from one voxel to another\n",
    "# The concentration curves of all voxels should be the same\n",
    "test = rxd.Species(ecs, name = \"test\", d = 0, initial = 48.04298494148047, atolscale=1e-12)"
   ],
   "outputs": [],
   "metadata": {}
  },
  {
   "cell_type": "code",
   "execution_count": 10,
   "source": [
    "vc = 1e-13\n",
    "fb = 2000\n",
    "coords_test = create_index_list(test, ecs)\n",
    "vecs = create_rec_conc_vects(\"t_vec\", coords_test, test, ecs)\n",
    "test_secretion = rxd.Rate(test, JIS/vc-fb*test, regions = ecs)"
   ],
   "outputs": [],
   "metadata": {}
  },
  {
   "cell_type": "code",
   "execution_count": 8,
   "source": [
    "h.finitialize()\n",
    "h.continuerun(2000 * ms)"
   ],
   "outputs": [
    {
     "output_type": "stream",
     "name": "stderr",
     "text": [
      "rxddllc9f5a132-076d-11ec-99be-008cfae45194.c: In function ‘reaction’:\n",
      "rxddllc9f5a132-076d-11ec-99be-008cfae45194.c:12:11: error: ‘Vector’ undeclared (first use in this function)\n",
      "  rhs[0] = Vector[31]-2000*(species_3d[0]);\n",
      "           ^\n",
      "rxddllc9f5a132-076d-11ec-99be-008cfae45194.c:12:11: note: each undeclared identifier is reported only once for each function it appears in\n"
     ]
    },
    {
     "output_type": "error",
     "ename": "OSError",
     "evalue": "/blue/lamb/robert727/temp/Model-of-Pancreatic-Islets/Test/rxddllc9f5a132-076d-11ec-99be-008cfae45194.so: cannot open shared object file: No such file or directory",
     "traceback": [
      "\u001b[0;31m---------------------------------------------------------------------------\u001b[0m",
      "\u001b[0;31mOSError\u001b[0m                                   Traceback (most recent call last)",
      "\u001b[0;32m/apps/neuron/8.0.0/lib/python3.9/site-packages/neuron/rxd/rxd.py\u001b[0m in \u001b[0;36m_init\u001b[0;34m()\u001b[0m\n\u001b[1;32m   1486\u001b[0m     \u001b[0mclear_rates\u001b[0m\u001b[0;34m(\u001b[0m\u001b[0;34m)\u001b[0m\u001b[0;34m\u001b[0m\u001b[0;34m\u001b[0m\u001b[0m\n\u001b[1;32m   1487\u001b[0m     \u001b[0m_setup_memb_currents\u001b[0m\u001b[0;34m(\u001b[0m\u001b[0;34m)\u001b[0m\u001b[0;34m\u001b[0m\u001b[0;34m\u001b[0m\u001b[0m\n\u001b[0;32m-> 1488\u001b[0;31m     \u001b[0m_compile_reactions\u001b[0m\u001b[0;34m(\u001b[0m\u001b[0;34m)\u001b[0m\u001b[0;34m\u001b[0m\u001b[0;34m\u001b[0m\u001b[0m\n\u001b[0m\u001b[1;32m   1489\u001b[0m \u001b[0;34m\u001b[0m\u001b[0m\n\u001b[1;32m   1490\u001b[0m \u001b[0;34m\u001b[0m\u001b[0m\n",
      "\u001b[0;32m/apps/neuron/8.0.0/lib/python3.9/site-packages/neuron/rxd/rxd.py\u001b[0m in \u001b[0;36m_compile_reactions\u001b[0;34m()\u001b[0m\n\u001b[1;32m   1458\u001b[0m             ecs_register_reaction(0, len(all_gids), len(param_gids),\n\u001b[1;32m   1459\u001b[0m                                   \u001b[0m_list_to_cint_array\u001b[0m\u001b[0;34m(\u001b[0m\u001b[0mall_gids\u001b[0m \u001b[0;34m+\u001b[0m \u001b[0mparam_gids\u001b[0m\u001b[0;34m)\u001b[0m\u001b[0;34m,\u001b[0m\u001b[0;34m\u001b[0m\u001b[0;34m\u001b[0m\u001b[0m\n\u001b[0;32m-> 1460\u001b[0;31m                                   _c_compile(fxn_string))\n\u001b[0m\u001b[1;32m   1461\u001b[0m \u001b[0;34m\u001b[0m\u001b[0m\n\u001b[1;32m   1462\u001b[0m \u001b[0;32mdef\u001b[0m \u001b[0m_init\u001b[0m\u001b[0;34m(\u001b[0m\u001b[0;34m)\u001b[0m\u001b[0;34m:\u001b[0m\u001b[0;34m\u001b[0m\u001b[0;34m\u001b[0m\u001b[0m\n",
      "\u001b[0;32m/apps/neuron/8.0.0/lib/python3.9/site-packages/neuron/rxd/rxd.py\u001b[0m in \u001b[0;36m_c_compile\u001b[0;34m(formula)\u001b[0m\n\u001b[1;32m    487\u001b[0m     \u001b[0;31m#TODO: Find a better way of letting the system locate librxdmath.so.0\u001b[0m\u001b[0;34m\u001b[0m\u001b[0;34m\u001b[0m\u001b[0;34m\u001b[0m\u001b[0m\n\u001b[1;32m    488\u001b[0m     \u001b[0mrxdmath_dll\u001b[0m \u001b[0;34m=\u001b[0m \u001b[0mctypes\u001b[0m\u001b[0;34m.\u001b[0m\u001b[0mcdll\u001b[0m\u001b[0;34m[\u001b[0m\u001b[0m_find_librxdmath\u001b[0m\u001b[0;34m(\u001b[0m\u001b[0;34m)\u001b[0m\u001b[0;34m]\u001b[0m\u001b[0;34m\u001b[0m\u001b[0;34m\u001b[0m\u001b[0m\n\u001b[0;32m--> 489\u001b[0;31m     \u001b[0mdll\u001b[0m \u001b[0;34m=\u001b[0m \u001b[0mctypes\u001b[0m\u001b[0;34m.\u001b[0m\u001b[0mcdll\u001b[0m\u001b[0;34m[\u001b[0m\u001b[0;34m'%s.so'\u001b[0m \u001b[0;34m%\u001b[0m \u001b[0mos\u001b[0m\u001b[0;34m.\u001b[0m\u001b[0mpath\u001b[0m\u001b[0;34m.\u001b[0m\u001b[0mabspath\u001b[0m\u001b[0;34m(\u001b[0m\u001b[0mfilename\u001b[0m\u001b[0;34m)\u001b[0m\u001b[0;34m]\u001b[0m\u001b[0;34m\u001b[0m\u001b[0;34m\u001b[0m\u001b[0m\n\u001b[0m\u001b[1;32m    490\u001b[0m     \u001b[0mreaction\u001b[0m \u001b[0;34m=\u001b[0m \u001b[0mdll\u001b[0m\u001b[0;34m.\u001b[0m\u001b[0mreaction\u001b[0m\u001b[0;34m\u001b[0m\u001b[0;34m\u001b[0m\u001b[0m\n\u001b[1;32m    491\u001b[0m     \u001b[0mreaction\u001b[0m\u001b[0;34m.\u001b[0m\u001b[0margtypes\u001b[0m \u001b[0;34m=\u001b[0m \u001b[0;34m[\u001b[0m\u001b[0mctypes\u001b[0m\u001b[0;34m.\u001b[0m\u001b[0mPOINTER\u001b[0m\u001b[0;34m(\u001b[0m\u001b[0mctypes\u001b[0m\u001b[0;34m.\u001b[0m\u001b[0mc_double\u001b[0m\u001b[0;34m)\u001b[0m\u001b[0;34m,\u001b[0m \u001b[0mctypes\u001b[0m\u001b[0;34m.\u001b[0m\u001b[0mPOINTER\u001b[0m\u001b[0;34m(\u001b[0m\u001b[0mctypes\u001b[0m\u001b[0;34m.\u001b[0m\u001b[0mc_double\u001b[0m\u001b[0;34m)\u001b[0m\u001b[0;34m]\u001b[0m\u001b[0;34m\u001b[0m\u001b[0;34m\u001b[0m\u001b[0m\n",
      "\u001b[0;32m/apps/neuron/8.0.0/lib/python3.9/ctypes/__init__.py\u001b[0m in \u001b[0;36m__getitem__\u001b[0;34m(self, name)\u001b[0m\n\u001b[1;32m    455\u001b[0m \u001b[0;34m\u001b[0m\u001b[0m\n\u001b[1;32m    456\u001b[0m     \u001b[0;32mdef\u001b[0m \u001b[0m__getitem__\u001b[0m\u001b[0;34m(\u001b[0m\u001b[0mself\u001b[0m\u001b[0;34m,\u001b[0m \u001b[0mname\u001b[0m\u001b[0;34m)\u001b[0m\u001b[0;34m:\u001b[0m\u001b[0;34m\u001b[0m\u001b[0;34m\u001b[0m\u001b[0m\n\u001b[0;32m--> 457\u001b[0;31m         \u001b[0;32mreturn\u001b[0m \u001b[0mgetattr\u001b[0m\u001b[0;34m(\u001b[0m\u001b[0mself\u001b[0m\u001b[0;34m,\u001b[0m \u001b[0mname\u001b[0m\u001b[0;34m)\u001b[0m\u001b[0;34m\u001b[0m\u001b[0;34m\u001b[0m\u001b[0m\n\u001b[0m\u001b[1;32m    458\u001b[0m \u001b[0;34m\u001b[0m\u001b[0m\n\u001b[1;32m    459\u001b[0m     \u001b[0;32mdef\u001b[0m \u001b[0mLoadLibrary\u001b[0m\u001b[0;34m(\u001b[0m\u001b[0mself\u001b[0m\u001b[0;34m,\u001b[0m \u001b[0mname\u001b[0m\u001b[0;34m)\u001b[0m\u001b[0;34m:\u001b[0m\u001b[0;34m\u001b[0m\u001b[0;34m\u001b[0m\u001b[0m\n",
      "\u001b[0;32m/apps/neuron/8.0.0/lib/python3.9/ctypes/__init__.py\u001b[0m in \u001b[0;36m__getattr__\u001b[0;34m(self, name)\u001b[0m\n\u001b[1;32m    450\u001b[0m         \u001b[0;32mif\u001b[0m \u001b[0mname\u001b[0m\u001b[0;34m[\u001b[0m\u001b[0;36m0\u001b[0m\u001b[0;34m]\u001b[0m \u001b[0;34m==\u001b[0m \u001b[0;34m'_'\u001b[0m\u001b[0;34m:\u001b[0m\u001b[0;34m\u001b[0m\u001b[0;34m\u001b[0m\u001b[0m\n\u001b[1;32m    451\u001b[0m             \u001b[0;32mraise\u001b[0m \u001b[0mAttributeError\u001b[0m\u001b[0;34m(\u001b[0m\u001b[0mname\u001b[0m\u001b[0;34m)\u001b[0m\u001b[0;34m\u001b[0m\u001b[0;34m\u001b[0m\u001b[0m\n\u001b[0;32m--> 452\u001b[0;31m         \u001b[0mdll\u001b[0m \u001b[0;34m=\u001b[0m \u001b[0mself\u001b[0m\u001b[0;34m.\u001b[0m\u001b[0m_dlltype\u001b[0m\u001b[0;34m(\u001b[0m\u001b[0mname\u001b[0m\u001b[0;34m)\u001b[0m\u001b[0;34m\u001b[0m\u001b[0;34m\u001b[0m\u001b[0m\n\u001b[0m\u001b[1;32m    453\u001b[0m         \u001b[0msetattr\u001b[0m\u001b[0;34m(\u001b[0m\u001b[0mself\u001b[0m\u001b[0;34m,\u001b[0m \u001b[0mname\u001b[0m\u001b[0;34m,\u001b[0m \u001b[0mdll\u001b[0m\u001b[0;34m)\u001b[0m\u001b[0;34m\u001b[0m\u001b[0;34m\u001b[0m\u001b[0m\n\u001b[1;32m    454\u001b[0m         \u001b[0;32mreturn\u001b[0m \u001b[0mdll\u001b[0m\u001b[0;34m\u001b[0m\u001b[0;34m\u001b[0m\u001b[0m\n",
      "\u001b[0;32m/apps/neuron/8.0.0/lib/python3.9/ctypes/__init__.py\u001b[0m in \u001b[0;36m__init__\u001b[0;34m(self, name, mode, handle, use_errno, use_last_error, winmode)\u001b[0m\n\u001b[1;32m    380\u001b[0m \u001b[0;34m\u001b[0m\u001b[0m\n\u001b[1;32m    381\u001b[0m         \u001b[0;32mif\u001b[0m \u001b[0mhandle\u001b[0m \u001b[0;32mis\u001b[0m \u001b[0;32mNone\u001b[0m\u001b[0;34m:\u001b[0m\u001b[0;34m\u001b[0m\u001b[0;34m\u001b[0m\u001b[0m\n\u001b[0;32m--> 382\u001b[0;31m             \u001b[0mself\u001b[0m\u001b[0;34m.\u001b[0m\u001b[0m_handle\u001b[0m \u001b[0;34m=\u001b[0m \u001b[0m_dlopen\u001b[0m\u001b[0;34m(\u001b[0m\u001b[0mself\u001b[0m\u001b[0;34m.\u001b[0m\u001b[0m_name\u001b[0m\u001b[0;34m,\u001b[0m \u001b[0mmode\u001b[0m\u001b[0;34m)\u001b[0m\u001b[0;34m\u001b[0m\u001b[0;34m\u001b[0m\u001b[0m\n\u001b[0m\u001b[1;32m    383\u001b[0m         \u001b[0;32melse\u001b[0m\u001b[0;34m:\u001b[0m\u001b[0;34m\u001b[0m\u001b[0;34m\u001b[0m\u001b[0m\n\u001b[1;32m    384\u001b[0m             \u001b[0mself\u001b[0m\u001b[0;34m.\u001b[0m\u001b[0m_handle\u001b[0m \u001b[0;34m=\u001b[0m \u001b[0mhandle\u001b[0m\u001b[0;34m\u001b[0m\u001b[0;34m\u001b[0m\u001b[0m\n",
      "\u001b[0;31mOSError\u001b[0m: /blue/lamb/robert727/temp/Model-of-Pancreatic-Islets/Test/rxddllc9f5a132-076d-11ec-99be-008cfae45194.so: cannot open shared object file: No such file or directory"
     ]
    },
    {
     "output_type": "stream",
     "name": "stderr",
     "text": [
      "NEURON: Python Callback failed\n",
      " near line 0\n",
      " ^\n",
      "        finitialize()\n"
     ]
    },
    {
     "output_type": "error",
     "ename": "RuntimeError",
     "evalue": "hoc error",
     "traceback": [
      "\u001b[0;31m---------------------------------------------------------------------------\u001b[0m",
      "\u001b[0;31mRuntimeError\u001b[0m                              Traceback (most recent call last)",
      "\u001b[0;32m/tmp/ipykernel_730/1183461504.py\u001b[0m in \u001b[0;36m<module>\u001b[0;34m\u001b[0m\n\u001b[0;32m----> 1\u001b[0;31m \u001b[0mh\u001b[0m\u001b[0;34m.\u001b[0m\u001b[0mfinitialize\u001b[0m\u001b[0;34m(\u001b[0m\u001b[0;34m)\u001b[0m\u001b[0;34m\u001b[0m\u001b[0;34m\u001b[0m\u001b[0m\n\u001b[0m\u001b[1;32m      2\u001b[0m \u001b[0mh\u001b[0m\u001b[0;34m.\u001b[0m\u001b[0mcontinuerun\u001b[0m\u001b[0;34m(\u001b[0m\u001b[0;36m2000\u001b[0m \u001b[0;34m*\u001b[0m \u001b[0mms\u001b[0m\u001b[0;34m)\u001b[0m\u001b[0;34m\u001b[0m\u001b[0;34m\u001b[0m\u001b[0m\n",
      "\u001b[0;31mRuntimeError\u001b[0m: hoc error"
     ]
    }
   ],
   "metadata": {}
  },
  {
   "cell_type": "code",
   "execution_count": null,
   "source": [
    "plt.plot(t_vec, I)"
   ],
   "outputs": [],
   "metadata": {}
  },
  {
   "cell_type": "code",
   "execution_count": 20,
   "source": [
    "voxel_conc_plots(\"t_vec2\", coords_test, vecs, test, \"JIS_vector_rxd_test\")"
   ],
   "outputs": [],
   "metadata": {}
  }
 ],
 "metadata": {
  "orig_nbformat": 4,
  "language_info": {
   "name": "python",
   "version": "3.9.6",
   "mimetype": "text/x-python",
   "codemirror_mode": {
    "name": "ipython",
    "version": 3
   },
   "pygments_lexer": "ipython3",
   "nbconvert_exporter": "python",
   "file_extension": ".py"
  },
  "kernelspec": {
   "name": "python3",
   "display_name": "Python 3.9.6 64-bit ('8.0.0': conda)"
  },
  "interpreter": {
   "hash": "0f3164d8129cab40951503f743a8d5326e866d31ef6101438dfa741d2ec07893"
  }
 },
 "nbformat": 4,
 "nbformat_minor": 2
}