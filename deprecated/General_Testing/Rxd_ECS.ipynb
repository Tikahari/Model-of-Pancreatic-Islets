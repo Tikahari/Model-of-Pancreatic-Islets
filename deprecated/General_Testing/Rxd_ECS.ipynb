{
 "cells": [
  {
   "cell_type": "code",
   "execution_count": 1,
   "source": [
    "from neuron import h, units, rxd, load_mechanisms\n",
    "from neuron.units import mV, ms, um, mM\n",
    "import math\n",
    "from matplotlib import pyplot as plt\n",
    "h.load_file(\"stdrun.hoc\")\n",
    "%matplotlib inline\n",
    "from itertools import product\n",
    "import plotly.express as px\n",
    "import pandas as pd"
   ],
   "outputs": [
    {
     "output_type": "stream",
     "name": "stderr",
     "text": [
      "Warning: no DISPLAY environment variable.\n",
      "--No graphics will be displayed.\n"
     ]
    }
   ],
   "metadata": {}
  },
  {
   "cell_type": "code",
   "execution_count": 8,
   "source": [
    "# ! nrnivmodl\n",
    "load_mechanisms(\"/blue/lamb/robert727/temp/Model-of-Pancreatic-Islets/Test\")"
   ],
   "outputs": [
    {
     "output_type": "execute_result",
     "data": {
      "text/plain": [
       "True"
      ]
     },
     "metadata": {},
     "execution_count": 8
    }
   ],
   "metadata": {}
  },
  {
   "cell_type": "markdown",
   "source": [
    "The goal of this next simulation is to see how concentration is read when the location being read is a point that defines cell location. I will test this in a 30x30x30 ecs with a step size of 10. You can picture the ecs as being a rubix cube. I will make the cell have a length and diameter of 10 and it will be fully contained in the center voxel. I will leave the diffusivity constant as 0 to check and see the effect. The concentration of the central voxel should be the concentration directly outside of the cell."
   ],
   "metadata": {}
  },
  {
   "cell_type": "code",
   "execution_count": 9,
   "source": [
    "# Create cell and insert one mechanism\n",
    "my_cell = h.Section(name = \"my_cell\")\n",
    "my_cell.insert(\"steady_k\")"
   ],
   "outputs": [
    {
     "output_type": "execute_result",
     "data": {
      "text/plain": [
       "my_cell"
      ]
     },
     "metadata": {},
     "execution_count": 9
    }
   ],
   "metadata": {}
  },
  {
   "cell_type": "code",
   "execution_count": 3,
   "source": [
    "# Give cell length and diameter of 10 micrometers\n",
    "my_cell.pt3dadd(10,15,15,10)\n",
    "my_cell.pt3dadd(20,15,15,10)"
   ],
   "outputs": [],
   "metadata": {}
  },
  {
   "cell_type": "code",
   "execution_count": 4,
   "source": [
    "ecs = rxd.Extracellular(0,0,0,30,30,30, dx = (10, 10, 10))"
   ],
   "outputs": [],
   "metadata": {}
  },
  {
   "cell_type": "code",
   "execution_count": 5,
   "source": [
    "# Leave d = 0 so no diffusion meaning insulin should stay right outside of membrane\n",
    "k = rxd.Species(ecs, name = \"k\", d = 0, charge = 1, initial = 3)"
   ],
   "outputs": [],
   "metadata": {}
  },
  {
   "cell_type": "code",
   "execution_count": 6,
   "source": [
    "k.initial"
   ],
   "outputs": [
    {
     "output_type": "execute_result",
     "data": {
      "text/plain": [
       "3"
      ]
     },
     "metadata": {},
     "execution_count": 6
    }
   ],
   "metadata": {}
  },
  {
   "cell_type": "code",
   "execution_count": 7,
   "source": [
    "k[ecs].states3d"
   ],
   "outputs": [
    {
     "output_type": "execute_result",
     "data": {
      "text/plain": [
       "array([[[3., 3., 3.],\n",
       "        [3., 3., 3.],\n",
       "        [3., 3., 3.]],\n",
       "\n",
       "       [[3., 3., 3.],\n",
       "        [3., 3., 3.],\n",
       "        [3., 3., 3.]],\n",
       "\n",
       "       [[3., 3., 3.],\n",
       "        [3., 3., 3.],\n",
       "        [3., 3., 3.]]])"
      ]
     },
     "metadata": {},
     "execution_count": 7
    }
   ],
   "metadata": {}
  },
  {
   "cell_type": "code",
   "execution_count": 8,
   "source": [
    "my_cell(0.5).area()"
   ],
   "outputs": [
    {
     "output_type": "execute_result",
     "data": {
      "text/plain": [
       "314.1592653589793"
      ]
     },
     "metadata": {},
     "execution_count": 8
    }
   ],
   "metadata": {}
  },
  {
   "cell_type": "code",
   "execution_count": 9,
   "source": [
    "# Create cartesian product of all possible index combinations to create recording vectors for each voxel.\n",
    "coords = list(product([0,1,2], repeat = 3))\n",
    "coords = [list(coord) for coord in coords]"
   ],
   "outputs": [],
   "metadata": {}
  },
  {
   "cell_type": "code",
   "execution_count": 10,
   "source": [
    "# Create doctionary of recording vectors for each voxel\n",
    "vect_dict = {}\n",
    "for i in range(len(coords)):\n",
    "    vect_dict[\"k\" + str(coords[i])] = h.Vector()\n",
    "    vect_dict[\"k\" + str(coords[i])].record(k[ecs].node_by_ijk(coords[i][0], coords[i][1], coords[i][2])._ref_value)    "
   ],
   "outputs": [],
   "metadata": {}
  },
  {
   "cell_type": "code",
   "execution_count": 11,
   "source": [
    "# record the time\n",
    "t_vec = h.Vector()\n",
    "t_vec.record(h._ref_t)\n",
    "\n",
    "# run the simulation\n",
    "h.finitialize()\n",
    "h.continuerun(2000 * ms)"
   ],
   "outputs": [
    {
     "output_type": "execute_result",
     "data": {
      "text/plain": [
       "0.0"
      ]
     },
     "metadata": {},
     "execution_count": 11
    }
   ],
   "metadata": {}
  },
  {
   "cell_type": "code",
   "execution_count": null,
   "source": [
    "# Save each plot as it's own image\n",
    "for i in range(len(coords)):\n",
    "    plt.plot(t_vec, vect_dict[\"k\" + str(coords[i])])\n",
    "    plt.title(\"k\" + str(coords[i]))\n",
    "    plt.savefig(\"Plots/Every_node_d_1/k\" + str(coords[i]) + \".png\")\n",
    "    plt.close()"
   ],
   "outputs": [],
   "metadata": {}
  },
  {
   "cell_type": "markdown",
   "source": [
    "We can see from the figures and from `states3d` that k did not diffuse further into the ecs. The math below shows that the concentration of k in the central voxel is what is expected from the current stated in the mod file."
   ],
   "metadata": {}
  },
  {
   "cell_type": "code",
   "execution_count": 12,
   "source": [
    "k[ecs].states3d"
   ],
   "outputs": [
    {
     "output_type": "execute_result",
     "data": {
      "text/plain": [
       "array([[[ 3.        ,  3.        ,  3.        ],\n",
       "        [ 3.        ,  3.        ,  3.        ],\n",
       "        [ 3.        ,  3.        ,  3.        ]],\n",
       "\n",
       "       [[ 3.        ,  3.        ,  3.        ],\n",
       "        [ 3.        , 68.12062682,  3.        ],\n",
       "        [ 3.        ,  3.        ,  3.        ]],\n",
       "\n",
       "       [[ 3.        ,  3.        ,  3.        ],\n",
       "        [ 3.        ,  3.        ,  3.        ],\n",
       "        [ 3.        ,  3.        ,  3.        ]]])"
      ]
     },
     "metadata": {},
     "execution_count": 12
    }
   ],
   "metadata": {}
  },
  {
   "cell_type": "code",
   "execution_count": 13,
   "source": [
    "plt.plot(t_vec, vect_dict['k[1, 1, 1]'])"
   ],
   "outputs": [
    {
     "output_type": "execute_result",
     "data": {
      "text/plain": [
       "[<matplotlib.lines.Line2D at 0x212fcbbfd60>]"
      ]
     },
     "metadata": {},
     "execution_count": 13
    },
    {
     "output_type": "display_data",
     "data": {
      "text/plain": [
       "<Figure size 432x288 with 1 Axes>"
      ],
      "image/png": "[encoded data removed]"
     },
     "metadata": {
      "needs_background": "light"
     }
    }
   ],
   "metadata": {}
  },
  {
   "cell_type": "markdown",
   "source": [
    "## Reading concentration in cell\r\n",
    "\r\n",
    "It appears at the 0 end and halfway through the Section that the concentration being read is the concentration inside the Section. Concentration is measured in mM in NEURON, so here the concentration increases from 3 to 68.12 mM in 2000 ms. This means that the concentration increased 65.12 mM in 2000 ms. 65.12 mM is 0.06512 M = 0.06512 mols/L. Since we are measuring this concentration in a 10x10x10 voxel, the voxel has a volume of $1000 um^3$. There are $10^{15} um^3$ in a liter making the volume of our voxel $10^{-12}$ L. This means that during the 2000 ms simulation, 0.06512 mols/L * $10^{-12}$ L = 6.512 * $10^{-14}$ mols of $K^+$ accumulated in our voxel. This would mean $6.512 * 10^{-14} * 6.022 * 10^{23} = 3.9215264 * 10^{10} K^+ particles$ accumulated in the voxel during the simulation. Given that potassium has a charge of $1.602 * 10^{-19} C$, this would mean that $3.9215264 * 10^{10} * 1.602 * 10^{-19} = 6.282 * 10^{-9}$ coulombs accumulated in the voxel during the simulation. This would imply a current of $6.282 * 10^{-9} C / 2 s = 3.141 * 10^{-9} A = 3.141 * 10^{-6} mA$. Since steady_k is a density mechanism, the current is given in $mA/cm^2$ because it is distributed over the surface of the section. Our section has an area of $314.1 um^2$ which is $314.1 * 10^{-8} cm^{2} = 3.141 * 10^{-6} cm^{2}$. This would give us a current density of 1 $mA/cm^2$ as stated in the mod file. So it seems that when we read the concentration from a voxel that is located inside the cell, we read the concentration inside of the cell which is very convenient."
   ],
   "metadata": {}
  },
  {
   "cell_type": "markdown",
   "source": [
    "I am going to write a function that does all of this so I can quickly check what effect the diffusuivity constant has when I increase it by quantities of 0.5."
   ],
   "metadata": {}
  },
  {
   "cell_type": "code",
   "execution_count": null,
   "source": [
    "class ecs_simulation_d_test:\n",
    "    def __init__(self, cell_name, mech, coord_1, coord_2, diam):\n",
    "        self.cell = h.Section(name = cell_name)\n",
    "        self.cell.insert(mech)\n",
    "        self.cell.pt3dadd(coord_1[0], coord_1[1], coord_1[2], diam)\n",
    "        self.cell.pt3dadd(coord_2[0], coord_2[1], coord_2[2], diam)\n",
    "\n"
   ],
   "outputs": [],
   "metadata": {}
  }
 ],
 "metadata": {
  "orig_nbformat": 4,
  "language_info": {
   "name": "python",
   "version": "3.9.6",
   "mimetype": "text/x-python",
   "codemirror_mode": {
    "name": "ipython",
    "version": 3
   },
   "pygments_lexer": "ipython3",
   "nbconvert_exporter": "python",
   "file_extension": ".py"
  },
  "kernelspec": {
   "name": "python3",
   "display_name": "Python 3.9.6 64-bit ('8.0.0': conda)"
  },
  "interpreter": {
   "hash": "0f3164d8129cab40951503f743a8d5326e866d31ef6101438dfa741d2ec07893"
  }
 },
 "nbformat": 4,
 "nbformat_minor": 2
}